{
 "cells": [
  {
   "cell_type": "code",
   "execution_count": 5,
   "metadata": {},
   "outputs": [],
   "source": [
    "import pandas as pd\n",
    "\n",
    "# 读取 reviewed.xlsx\n",
    "df = pd.read_excel('reviewed.xlsx')\n",
    "\n",
    "# 把 name\tui\tnormalized_name\tsemanticTypes 这四行导出 reviewed.csv\n",
    "df = df[['name', 'ui', 'normalized_name', 'semanticTypes']]\n",
    "df.to_csv('reviewed.csv', index=False)\n"
   ]
  }
 ],
 "metadata": {
  "kernelspec": {
   "display_name": "medkgc",
   "language": "python",
   "name": "python3"
  },
  "language_info": {
   "codemirror_mode": {
    "name": "ipython",
    "version": 3
   },
   "file_extension": ".py",
   "mimetype": "text/x-python",
   "name": "python",
   "nbconvert_exporter": "python",
   "pygments_lexer": "ipython3",
   "version": "3.10.14"
  }
 },
 "nbformat": 4,
 "nbformat_minor": 2
}
