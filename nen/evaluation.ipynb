{
 "cells": [
  {
   "cell_type": "code",
   "execution_count": 8,
   "metadata": {},
   "outputs": [
    {
     "name": "stdout",
     "output_type": "stream",
     "text": [
      "count of data[ui] is nan: 364\n",
      "count of data[ui] is not nan: 886\n"
     ]
    }
   ],
   "source": [
    "import pandas as pd\n",
    "test = pd.read_excel('humanReview/output.xlsx')\n",
    "\n",
    "# count data[ui] is nan and print the count\n",
    "print(f\"count of data[ui] is nan: {test['ui'].isna().sum()}\")\n",
    "print(f\"count of data[ui] is not nan: {test['ui'].notna().sum()}\")"
   ]
  },
  {
   "cell_type": "code",
   "execution_count": 9,
   "metadata": {},
   "outputs": [
    {
     "name": "stdout",
     "output_type": "stream",
     "text": [
      "count of data[ui] is nan: 752\n",
      "count of data[ui] is not nan: 498\n"
     ]
    }
   ],
   "source": [
    "# read csv file, reources/simple/output.csv\n",
    "result = pd.read_csv('resource/simple/output.csv')\n",
    "\n",
    "# count data[ui] is nan and print the count\n",
    "print(f\"count of data[ui] is nan: {result['ui'].isna().sum()}\")\n",
    "print(f\"count of data[ui] is not nan: {result['ui'].notna().sum()}\")"
   ]
  },
  {
   "cell_type": "markdown",
   "metadata": {},
   "source": [
    "# Evaluation"
   ]
  },
  {
   "cell_type": "code",
   "execution_count": 16,
   "metadata": {},
   "outputs": [
    {
     "name": "stdout",
     "output_type": "stream",
     "text": [
      "Identical 'ui' count: 862\n",
      "Non-identical 'ui' count: 388\n",
      "Mismatches:\n",
      "                 name   ui normalized_name semanticTypes definition  ui_match  \\\n",
      "12             carina  NaN             NaN           NaN        NaN     False   \n",
      "14             distal  NaN             NaN           NaN        NaN     False   \n",
      "21           contours  NaN             NaN           NaN        NaN     False   \n",
      "23       unremarkable  NaN             NaN           NaN        NaN     False   \n",
      "24          Pulmonary  NaN             NaN           NaN        NaN     False   \n",
      "...               ...  ...             ...           ...        ...       ...   \n",
      "1230          regions  NaN             NaN           NaN        NaN     False   \n",
      "1235         deviated  NaN             NaN           NaN        NaN     False   \n",
      "1238          sequela  NaN             NaN           NaN        NaN     False   \n",
      "1245              EKG  NaN             NaN           NaN        NaN     False   \n",
      "1247  Bronchovascular  NaN             NaN           NaN        NaN     False   \n",
      "\n",
      "     ui_target  \n",
      "12    C0225594  \n",
      "14    C0205108  \n",
      "21    C0876954  \n",
      "23    C0205307  \n",
      "24    C0024109  \n",
      "...        ...  \n",
      "1230  C0005898  \n",
      "1235  C0012727  \n",
      "1238  C0543419  \n",
      "1245  C0013798  \n",
      "1247  C2326513  \n",
      "\n",
      "[388 rows x 7 columns]\n",
      "862 / 1250 = 68.96%\n"
     ]
    }
   ],
   "source": [
    "# Compare the 'ui' columns in both DataFrames\n",
    "result['ui_target'] = test['ui']\n",
    "result['ui_match'] = (result['ui'] == test['ui']) | (result['ui'].isna() & test['ui'].isna())\n",
    "\n",
    "# Count the number of identical and non-identical 'ui' values\n",
    "identical_count = result['ui_match'].sum()\n",
    "non_identical_count = len(result) - identical_count\n",
    "\n",
    "# Print the counts\n",
    "print(f\"Identical 'ui' count: {identical_count}\")\n",
    "print(f\"Non-identical 'ui' count: {non_identical_count}\")\n",
    "\n",
    "# Analyze mismatches\n",
    "mismatches = result[~result['ui_match']]\n",
    "print(\"Mismatches:\")\n",
    "print(mismatches)\n",
    "\n",
    "print(f\"{identical_count} / {len(result)} = {identical_count / len(result) * 100:.2f}%\")"
   ]
  },
  {
   "cell_type": "code",
   "execution_count": 21,
   "metadata": {},
   "outputs": [
    {
     "name": "stdout",
     "output_type": "stream",
     "text": [
      "count of data[ui] is nan: 362\n",
      "count of data[ui] is not nan: 888\n"
     ]
    }
   ],
   "source": [
    "# read csv file, reources/simple/output.csv\n",
    "result = pd.read_csv('resource/gpt/output_gpt.csv')\n",
    "\n",
    "# count data[ui] is nan and print the count\n",
    "print(f\"count of data[ui] is nan: {result['ui'].isna().sum()}\")\n",
    "print(f\"count of data[ui] is not nan: {result['ui'].notna().sum()}\")"
   ]
  },
  {
   "cell_type": "code",
   "execution_count": 22,
   "metadata": {},
   "outputs": [
    {
     "name": "stdout",
     "output_type": "stream",
     "text": [
      "Identical 'ui' count: 1248\n",
      "Non-identical 'ui' count: 2\n",
      "Mismatches:\n",
      "          name        ui    normalized_name         semanticTypes definition  \\\n",
      "107  bibasilar  C2315107  Bibasilar Finding  Diagnostic Procedure        NaN   \n",
      "202  Bibasilar  C0232118          Bibasilar               Finding        NaN   \n",
      "\n",
      "    ui_target  ui_match  \n",
      "107       NaN     False  \n",
      "202       NaN     False  \n",
      "1248 / 1250 = 99.84%\n"
     ]
    }
   ],
   "source": [
    "# Compare the 'ui' columns in both DataFrames\n",
    "result['ui_target'] = test['ui']\n",
    "result['ui_match'] = (result['ui'] == test['ui']) | (result['ui'].isna() & test['ui'].isna())\n",
    "\n",
    "# Count the number of identical and non-identical 'ui' values\n",
    "identical_count = result['ui_match'].sum()\n",
    "non_identical_count = len(result) - identical_count\n",
    "\n",
    "# Print the counts\n",
    "print(f\"Identical 'ui' count: {identical_count}\")\n",
    "print(f\"Non-identical 'ui' count: {non_identical_count}\")\n",
    "\n",
    "# Analyze mismatches\n",
    "mismatches = result[~result['ui_match']]\n",
    "print(\"Mismatches:\")\n",
    "print(mismatches)\n",
    "\n",
    "print(f\"{identical_count} / {len(result)} = {identical_count / len(result) * 100:.2f}%\")"
   ]
  }
 ],
 "metadata": {
  "kernelspec": {
   "display_name": "medkgc",
   "language": "python",
   "name": "medkgc"
  },
  "language_info": {
   "codemirror_mode": {
    "name": "ipython",
    "version": 3
   },
   "file_extension": ".py",
   "mimetype": "text/x-python",
   "name": "python",
   "nbconvert_exporter": "python",
   "pygments_lexer": "ipython3",
   "version": "3.10.14"
  }
 },
 "nbformat": 4,
 "nbformat_minor": 2
}
