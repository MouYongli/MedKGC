{
 "cells": [
  {
   "cell_type": "markdown",
   "metadata": {},
   "source": [
    "# Read all_unique_entities"
   ]
  },
  {
   "cell_type": "code",
   "execution_count": 3,
   "metadata": {},
   "outputs": [
    {
     "name": "stdout",
     "output_type": "stream",
     "text": [
      "First 10 entities:\n",
      "['Lungs',\n",
      " 'clear',\n",
      " 'Normal',\n",
      " 'cardiomediastinal',\n",
      " 'hilar',\n",
      " 'silhouettes',\n",
      " 'pleural',\n",
      " 'surfaces',\n",
      " 'Endotracheal',\n",
      " 'tube']\n",
      "None\n"
     ]
    }
   ],
   "source": [
    "import json\n",
    "import pprint\n",
    "\n",
    "## Read the saved file\n",
    "with open('../../resource/all_unique_entities.json', 'r', encoding='utf-8') as f:\n",
    "    all_unique_entities = json.load(f)\n",
    "\n",
    "# Print the first 10 entities\n",
    "print('First 10 entities:')\n",
    "pprint.pprint(list(all_unique_entities.keys())[:10])\n",
    "\n",
    "print(all_unique_entities['Lung']['normalization'])"
   ]
  },
  {
   "cell_type": "markdown",
   "metadata": {},
   "source": [
    "# Construct the json file with ui"
   ]
  },
  {
   "cell_type": "code",
   "execution_count": 4,
   "metadata": {},
   "outputs": [
    {
     "name": "stdout",
     "output_type": "stream",
     "text": [
      "922\n",
      "Done!\n"
     ]
    }
   ],
   "source": [
    "# read xlsx fiel, reviwed.xlsx, ../resource/reviewed.xlsx\n",
    "import pandas as pd\n",
    "input_file = '../humanReview/reviewed.xlsx'\n",
    "\n",
    "df = pd.read_excel(input_file)\n",
    "# print(df.head())\n",
    "\n",
    "i = 0\n",
    "# retrieve the df\n",
    "# set all_unique_entities[df[name]] = df[normalization]\n",
    "for index, row in df.iterrows():\n",
    "\n",
    "    # if df.ui is not nan, then         all_unique_entities[row['name']]['normalization'] = row['ui']\n",
    "    if not pd.isnull(row['ui']):\n",
    "        all_unique_entities[row['name']]['normalization'] = row['ui']\n",
    "        i += 1\n",
    "\n",
    "print(i)\n",
    "\n",
    "\n",
    "\n",
    "\n",
    "\n",
    "# save the file all_unique_entities, ../resource/normalization_all_unique_entities.json\n",
    "with open('../resource/normalization_all_unique_entities.json', 'w', encoding='utf-8') as f:\n",
    "    json.dump(all_unique_entities, f, ensure_ascii=False, indent=4)\n",
    "\n",
    "print('Done!')\n"
   ]
  },
  {
   "cell_type": "markdown",
   "metadata": {},
   "source": [
    "# json to csv file"
   ]
  },
  {
   "cell_type": "code",
   "execution_count": 5,
   "metadata": {},
   "outputs": [
    {
     "name": "stdout",
     "output_type": "stream",
     "text": [
      "First 10 entities:\n",
      "['Lungs',\n",
      " 'clear',\n",
      " 'Normal',\n",
      " 'cardiomediastinal',\n",
      " 'hilar',\n",
      " 'silhouettes',\n",
      " 'pleural',\n",
      " 'surfaces',\n",
      " 'Endotracheal',\n",
      " 'tube']\n"
     ]
    }
   ],
   "source": [
    "import json\n",
    "import pprint\n",
    "import pandas as pd\n",
    "\n",
    "file = '../resource/normalization_all_unique_entities.json'\n",
    "\n",
    "## Read the saved file\n",
    "with open(file, 'r', encoding='utf-8') as f:\n",
    "    all_unique_entities = json.load(f)\n",
    "\n",
    "# Print the first 10 entities\n",
    "print('First 10 entities:')\n",
    "pprint.pprint(list(all_unique_entities.keys())[:10])\n",
    "\n",
    "# prepare the data for csv file, only contains name and normalization\n",
    "data = []\n",
    "for name, info in all_unique_entities.items():\n",
    "    data.append({'name': name, 'normalization': info['normalization']})\n",
    "\n",
    "# Save Output all_entities to a CSV file\n",
    "df = pd.DataFrame(data)\n",
    "df.to_csv('../resource/normalization_all_unique_entities.csv', index=False)\n"
   ]
  }
 ],
 "metadata": {
  "kernelspec": {
   "display_name": "medkgc",
   "language": "python",
   "name": "python3"
  },
  "language_info": {
   "codemirror_mode": {
    "name": "ipython",
    "version": 3
   },
   "file_extension": ".py",
   "mimetype": "text/x-python",
   "name": "python",
   "nbconvert_exporter": "python",
   "pygments_lexer": "ipython3",
   "version": "3.10.14"
  }
 },
 "nbformat": 4,
 "nbformat_minor": 2
}
