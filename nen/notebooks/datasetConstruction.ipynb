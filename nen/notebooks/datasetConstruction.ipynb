{
 "cells": [
  {
   "cell_type": "markdown",
   "metadata": {},
   "source": [
    "# Read all_unique_entities"
   ]
  },
  {
   "cell_type": "code",
   "execution_count": 3,
   "metadata": {},
   "outputs": [
    {
     "name": "stdout",
     "output_type": "stream",
     "text": [
      "First 10 entities:\n",
      "['Lungs',\n",
      " 'clear',\n",
      " 'Normal',\n",
      " 'cardiomediastinal',\n",
      " 'hilar',\n",
      " 'silhouettes',\n",
      " 'pleural',\n",
      " 'surfaces',\n",
      " 'Endotracheal',\n",
      " 'tube']\n",
      "None\n"
     ]
    }
   ],
   "source": [
    "import json\n",
    "import pprint\n",
    "\n",
    "## Read the saved file\n",
    "with open('../../resource/all_unique_entities.json', 'r', encoding='utf-8') as f:\n",
    "    all_unique_entities = json.load(f)\n",
    "\n",
    "# Print the first 10 entities\n",
    "print('First 10 entities:')\n",
    "pprint.pprint(list(all_unique_entities.keys())[:10])\n",
    "\n",
    "print(all_unique_entities['Lung']['normalization'])"
   ]
  },
  {
   "cell_type": "code",
   "execution_count": 13,
   "metadata": {},
   "outputs": [
    {
     "name": "stdout",
     "output_type": "stream",
     "text": [
      "926\n"
     ]
    }
   ],
   "source": [
    "# read xlsx fiel, reviwed.xlsx, ../resource/reviewed.xlsx\n",
    "import pandas as pd\n",
    "df = pd.read_excel('../resource/reviewed.xlsx')\n",
    "# print(df.head())\n",
    "\n",
    "i = 0\n",
    "# retrieve the df\n",
    "# set all_unique_entities[df[name]] = df[normalization]\n",
    "for index, row in df.iterrows():\n",
    "    \n",
    "\n",
    "    # if df.ui is not nan, then         all_unique_entities[row['name']]['normalization'] = row['ui']\n",
    "    if not pd.isnull(row['ui']):\n",
    "        all_unique_entities[row['name']]['normalization'] = row['ui']\n",
    "        i += 1\n",
    "\n",
    "print(i)\n",
    "\n",
    "# save the file all_unique_entities"
   ]
  },
  {
   "cell_type": "code",
   "execution_count": 15,
   "metadata": {},
   "outputs": [
    {
     "name": "stdout",
     "output_type": "stream",
     "text": [
      "All entities have been saved to normalization_all_unique_entities.json\n"
     ]
    }
   ],
   "source": [
    "file = 'normalization_all_unique_entities.json'\n",
    "\n",
    "# Save Output all_entities to a JSON file\n",
    "with open(f\"../resource/{file}\", 'w', encoding='utf-8') as f:\n",
    "    json.dump(all_unique_entities, f, ensure_ascii=False, indent=4)\n",
    "\n",
    "print(f\"All entities have been saved to {file}\")"
   ]
  }
 ],
 "metadata": {
  "kernelspec": {
   "display_name": "medkgc",
   "language": "python",
   "name": "medkgc"
  },
  "language_info": {
   "codemirror_mode": {
    "name": "ipython",
    "version": 3
   },
   "file_extension": ".py",
   "mimetype": "text/x-python",
   "name": "python",
   "nbconvert_exporter": "python",
   "pygments_lexer": "ipython3",
   "version": "3.10.14"
  }
 },
 "nbformat": 4,
 "nbformat_minor": 2
}
