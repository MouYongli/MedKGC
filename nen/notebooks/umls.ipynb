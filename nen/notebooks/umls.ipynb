{
 "cells": [
  {
   "cell_type": "markdown",
   "metadata": {},
   "source": [
    "# UMLS\n",
    "\n",
    "path = '/DATA2/UMLS/'  \n",
    "total: 16,000,000\n",
    "# UMLS\n",
    "\n",
    "path = '/DATA2/UMLS/'  \n",
    "total: 16,000,000\n",
    "\n",
    "\n",
    "subset for now: 898,720.  \n",
    "subset for now: 898,720.  \n",
    "\n",
    "new subset: 1,411,747"
    "new subset: 1,411,747"
   ]
  },
  {
   "cell_type": "code",
   "execution_count": 6,
   "execution_count": 6,
   "metadata": {},
   "outputs": [
    {
     "name": "stdout",
     "output_type": "stream",
     "text": [
      "1411747\n"
      "1411747\n"
     ]
    }
   ],
   "source": [
    "import csv\n",
    "\n",
    "# 定义文件路径  /DATA1/llm-research/2022AA-full/\n",
    "# mrconso_path = '/DATA1/llm-research/2022AA-full/META/MRCONSO.RRF'\n",
    "# mrconso_path = '../resource/Radiology/2024AA/META/MRCONSO.RRF'\n",
    "# /Users/hanbin/Downloads/2024AA-full/0827/0827/2024AA/META\n",
    "mrconso_path = '/Users/hanbin/Downloads/2024AA-full/0827/0827/2024AA/META/MRCONSO.RRF'\n",
    "import csv\n",
    "\n",
    "# 定义文件路径  /DATA1/llm-research/2022AA-full/\n",
    "# mrconso_path = '/DATA1/llm-research/2022AA-full/META/MRCONSO.RRF'\n",
    "# mrconso_path = '../resource/Radiology/2024AA/META/MRCONSO.RRF'\n",
    "# /Users/hanbin/Downloads/2024AA-full/0827/0827/2024AA/META\n",
    "mrconso_path = '/Users/hanbin/Downloads/2024AA-full/0827/0827/2024AA/META/MRCONSO.RRF'\n",
    "\n",
    "concepts = {}\n",
    "concepts = {}\n",
    "\n",
    "with open(mrconso_path, 'r', encoding='utf-8') as f:\n",
    "    reader = csv.reader(f, delimiter='|')\n",
    "    for row in reader:\n",
    "        cui = row[0]\n",
    "        concept_name = row[14]\n",
    "        concepts[cui] = concept_name\n",
    "with open(mrconso_path, 'r', encoding='utf-8') as f:\n",
    "    reader = csv.reader(f, delimiter='|')\n",
    "    for row in reader:\n",
    "        cui = row[0]\n",
    "        concept_name = row[14]\n",
    "        concepts[cui] = concept_name\n",
    "\n",
    "print(len(concepts))"
    "print(len(concepts))"
   ]
  },
  {
   "cell_type": "markdown",
   "metadata": {},
   "source": [
    "# Subset Extraction\n",
    "## MRCONSO.RRF\n",
    "16,857,344 rows/ entries"
    "# Subset Extraction\n",
    "## MRCONSO.RRF\n",
    "16,857,344 rows/ entries"
   ]
  },
  {
   "cell_type": "code",
   "execution_count": null,
   "metadata": {},
   "outputs": [],
   "source": [
    "import csv\n",
    "\n",
    "# 定义文件路径  /DATA1/llm-research/2022AA-full/\n",
    "mrconso_path = '~/2024AA-full/META/MRCONSO.RRF'\n",
    "mrconso_path = '~/2024AA-full/META/MRCONSO.RRF'\n",
    "\n",
    "number = 0\n",
    "\n",
    "with open(mrconso_path, 'r', encoding='utf-8') as f:\n",
    "    reader = csv.reader(f, delimiter='|')\n",
    "    for row in reader:\n",
    "        number += 1\n",
    "\n",
    "print(number)"
    "print(number)"
   ]
  },
  {
   "cell_type": "markdown",
   "metadata": {},
   "source": [
    "## MRSTY.RRF"
   ]
  },
  {
   "cell_type": "code",
   "execution_count": null,
   "metadata": {},
   "outputs": [],
   "source": [
    "import csv\n",
    "\n",
    "# 定义文件路径  /DATA1/llm-research/2022AA-full/\n",
    "mrconso_path = '/DATA1/llm-research/2022AA-full/umls-extract/META/MRSTY.RRF'\n",
    "\n",
    "with open(mrconso_path, 'r', encoding='utf-8') as f:\n",
    "    reader = csv.reader(f, delimiter='|')\n",
    "    for row in reader:\n",
    "        print(row)\n",
    "        break"
    "        break"
   ]
  },
  {
   "cell_type": "code",
   "execution_count": null,
   "metadata": {},
   "outputs": [],
   "source": [
    "import csv\n",
    "\n",
    "# 定义文件路径  /DATA1/llm-research/2022AA-full/\n",
    "mrconso_path = '/DATA1/llm-research/2022AA-full/umls-extract/META/MRCONSO.RRF'\n",
    "mrsty_path = '/DATA1/llm-research/2022AA-full/umls-extract/META/MRSTY.RRF'\n",
    "\n",
    "i = 0\n",
    "\n",
    "# 读取概念信息\n",
    "concepts = {}\n",
    "with open(mrconso_path, 'r', encoding='utf-8') as f:\n",
    "    reader = csv.reader(f, delimiter='|')\n",
    "    for row in reader:\n",
    "        cui = row[0]\n",
    "        concept_name = row[14]\n",
    "        concepts[cui] = concept_name\n",
    "\n",
    "        i += 1\n",
    "        if i > 1000:\n",
    "            break\n",
    "\n",
    "\n",
    "i = 0\n",
    "\n",
    "# 读取概念类型\n",
    "types = {}\n",
    "with open(mrsty_path, 'r', encoding='utf-8') as f:\n",
    "    reader = csv.reader(f, delimiter='|')\n",
    "    for row in reader:\n",
    "        cui = row[0]\n",
    "        semantic_type = row[1]\n",
    "        if cui in types:\n",
    "            types[cui].append(semantic_type)\n",
    "        else:\n",
    "            types[cui] = [semantic_type]\n",
    "        \n",
    "        i += 1\n",
    "        if i > 1000:\n",
    "            break\n",
    "\n",
    "\n",
    "from pprint import pprint  \n",
    "pprint(concepts)\n",
    "pprint(types)\n",
    "\n",
    "# 提取所需子集\n",
    "desired_concepts = ['A2', 'A1.2', 'B2']\n",
    "subset = {cui: concepts[cui] for cui, stys in types.items() if any(sty in desired_concepts for sty in stys)}\n",
    "\n",
    "for cui, name in subset.items():\n",
    "    print(f\"CUI: {cui}, Name: {name}\")\n",
    "\n",
    "0"
   ]
  },
  {
   "cell_type": "markdown",
   "metadata": {},
   "source": [
    "# Subset Extraction\n",
    "898720 enrties in MRCONSO.RRF"
   ]
  },
  {
   "cell_type": "code",
   "execution_count": null,
   "metadata": {},
   "outputs": [],
   "source": [
    "import csv\n",
    "\n",
    "# 定义文件路径  /DATA1/llm-research/2022AA-full/\n",
    "mrconso_path = '../resource/Radiology/2024AA/META/MRCONSO.RRF'\n",
    "\n",
    "concepts = {}\n",
    "\n",
    "with open(mrconso_path, 'r', encoding='utf-8') as f:\n",
    "    reader = csv.reader(f, delimiter='|')\n",
    "    for row in reader:\n",
    "        cui = row[0]\n",
    "        concept_name = row[14]\n",
    "        concepts[cui] = concept_name\n",
    "\n",
    "\n",
    "print(len(concepts))\n"
   ]
  },
  {
   "cell_type": "markdown",
   "metadata": {},
   "source": [
    "# Subset Extraction\n",
    "898720 enrties in MRCONSO.RRF"
   ]
  },
  {
   "cell_type": "code",
   "execution_count": null,
   "metadata": {},
   "outputs": [],
   "source": [
    "import csv\n",
    "\n",
    "# 定义文件路径  /DATA1/llm-research/2022AA-full/\n",
    "mrconso_path = '../resource/Radiology/2024AA/META/MRCONSO.RRF'\n",
    "\n",
    "concepts = {}\n",
    "\n",
    "with open(mrconso_path, 'r', encoding='utf-8') as f:\n",
    "    reader = csv.reader(f, delimiter='|')\n",
    "    for row in reader:\n",
    "        cui = row[0]\n",
    "        concept_name = row[14]\n",
    "        concepts[cui] = concept_name\n",
    "\n",
    "\n",
    "print(len(concepts))\n"
   ]
  }
 ],
 "metadata": {
  "kernelspec": {
   "display_name": "medkgc",
   "language": "python",
   "name": "python3"
   "name": "python3"
  },
  "language_info": {
   "codemirror_mode": {
    "name": "ipython",
    "version": 3
   },
   "file_extension": ".py",
   "mimetype": "text/x-python",
   "name": "python",
   "nbconvert_exporter": "python",
   "pygments_lexer": "ipython3",
   "version": "3.10.14"
  }
 },
 "nbformat": 4,
 "nbformat_minor": 2
}
