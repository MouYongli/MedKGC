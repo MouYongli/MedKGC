{
 "cells": [
  {
   "cell_type": "markdown",
   "metadata": {},
   "source": [
    "# UMLS"
   ]
  },
  {
   "cell_type": "code",
   "execution_count": null,
   "metadata": {},
   "outputs": [],
   "source": [
    "path = '/DATA1/llm-research/2022AA-full/'"
   ]
  },
  {
   "cell_type": "code",
   "execution_count": 9,
   "metadata": {},
   "outputs": [
    {
     "name": "stdout",
     "output_type": "stream",
     "text": [
      "1\n"
     ]
    }
   ],
   "source": [
    "print(1)"
   ]
  },
  {
   "cell_type": "code",
   "execution_count": 30,
   "metadata": {},
   "outputs": [],
   "source": [
    "import zipfile\n",
    "from umls_downloader import download_umls\n",
    "\n",
    "path = download_umls(version=\"2024AA\", api_key=\"751b12fd-192a-4a6d-985d-9b094c99d3c8\")\n",
    "\n",
    "#  umls-2024AA-mrconso.zip\n",
    "\n",
    "# 解压并读取文件\n",
    "# with zipfile.ZipFile(path) as zip_file:\n",
    "    # with zip_file.open(\"2024AA/META/MRCONSO.RRF\", mode=\"r\") as file:\n",
    "    #     for line in file:\n",
    "    #         print(line.decode('utf-8'))\n",
    "    # print(zip_file.namelist())"
   ]
  },
  {
   "cell_type": "code",
   "execution_count": null,
   "metadata": {},
   "outputs": [
    {
     "name": "stdout",
     "output_type": "stream",
     "text": [
      "文件 /home/hbchen/.data/bio/umls/2024AA/umls-2024AA-mrconso.zip 已被删除\n"
     ]
    }
   ],
   "source": [
    "import os\n",
    "from umls_downloader import download_umls\n",
    "\n",
    "# 下载文件\n",
    "path = download_umls(version=\"2024AA\", api_key=\"751b12fd-192a-4a6d-985d-9b094c99d3c8\")\n",
    "\n",
    "# 使用文件...\n",
    "\n",
    "# 删除文件\n",
    "if os.path.exists(path):\n",
    "    os.remove(path)\n",
    "    print(f\"文件 {path} 已被删除\")\n",
    "else:\n",
    "    print(f\"文件 {path} 不存在\")"
   ]
  },
  {
   "cell_type": "markdown",
   "metadata": {},
   "source": [
    "# Subset Extraction"
   ]
  },
  {
   "cell_type": "code",
   "execution_count": null,
   "metadata": {},
   "outputs": [],
   "source": [
    "path = '/DATA1/llm-research/2022AA-full/'"
   ]
  },
  {
   "cell_type": "markdown",
   "metadata": {},
   "source": [
    "## MRCONSO.RRF"
   ]
  },
  {
   "cell_type": "code",
   "execution_count": 8,
   "metadata": {},
   "outputs": [
    {
     "name": "stdout",
     "output_type": "stream",
     "text": [
      "16857344\n"
     ]
    }
   ],
   "source": [
    "import csv\n",
    "\n",
    "# 定义文件路径  /DATA1/llm-research/2022AA-full/\n",
    "mrconso_path = '/DATA1/llm-research/2022AA-full/umls-extract/META/MRCONSO.RRF'\n",
    "\n",
    "number = 0\n",
    "\n",
    "with open(mrconso_path, 'r', encoding='utf-8') as f:\n",
    "    reader = csv.reader(f, delimiter='|')\n",
    "    for row in reader:\n",
    "        number += 1\n",
    "\n",
    "print(number)\n",
    "\n"
   ]
  },
  {
   "cell_type": "markdown",
   "metadata": {},
   "source": [
    "## MRSTY.RRF"
   ]
  },
  {
   "cell_type": "code",
   "execution_count": null,
   "metadata": {},
   "outputs": [],
   "source": [
    "import csv\n",
    "\n",
    "# 定义文件路径  /DATA1/llm-research/2022AA-full/\n",
    "mrconso_path = '/DATA1/llm-research/2022AA-full/umls-extract/META/MRSTY.RRF'\n",
    "\n",
    "with open(mrconso_path, 'r', encoding='utf-8') as f:\n",
    "    reader = csv.reader(f, delimiter='|')\n",
    "    for row in reader:\n",
    "        print(row)\n",
    "        break\n",
    "\n"
   ]
  },
  {
   "cell_type": "code",
   "execution_count": null,
   "metadata": {},
   "outputs": [],
   "source": [
    "import csv\n",
    "\n",
    "# 定义文件路径  /DATA1/llm-research/2022AA-full/\n",
    "mrconso_path = '/DATA1/llm-research/2022AA-full/umls-extract/META/MRCONSO.RRF'\n",
    "mrsty_path = '/DATA1/llm-research/2022AA-full/umls-extract/META/MRSTY.RRF'\n",
    "\n",
    "i = 0\n",
    "\n",
    "# 读取概念信息\n",
    "concepts = {}\n",
    "with open(mrconso_path, 'r', encoding='utf-8') as f:\n",
    "    reader = csv.reader(f, delimiter='|')\n",
    "    for row in reader:\n",
    "        cui = row[0]\n",
    "        concept_name = row[14]\n",
    "        concepts[cui] = concept_name\n",
    "\n",
    "        i += 1\n",
    "        if i > 1000:\n",
    "            break\n",
    "\n",
    "\n",
    "i = 0\n",
    "\n",
    "# 读取概念类型\n",
    "types = {}\n",
    "with open(mrsty_path, 'r', encoding='utf-8') as f:\n",
    "    reader = csv.reader(f, delimiter='|')\n",
    "    for row in reader:\n",
    "        cui = row[0]\n",
    "        semantic_type = row[1]\n",
    "        if cui in types:\n",
    "            types[cui].append(semantic_type)\n",
    "        else:\n",
    "            types[cui] = [semantic_type]\n",
    "        \n",
    "        i += 1\n",
    "        if i > 1000:\n",
    "            break\n",
    "\n",
    "\n",
    "from pprint import pprint  \n",
    "pprint(concepts)\n",
    "pprint(types)\n",
    "\n",
    "# 提取所需子集\n",
    "desired_concepts = ['A2', 'A1.2', 'B2']\n",
    "subset = {cui: concepts[cui] for cui, stys in types.items() if any(sty in desired_concepts for sty in stys)}\n",
    "\n",
    "for cui, name in subset.items():\n",
    "    print(f\"CUI: {cui}, Name: {name}\")\n",
    "\n",
    "0"
   ]
  }
 ],
 "metadata": {
  "kernelspec": {
   "display_name": "medkgc",
   "language": "python",
   "name": "medkgc"
  },
  "language_info": {
   "codemirror_mode": {
    "name": "ipython",
    "version": 3
   },
   "file_extension": ".py",
   "mimetype": "text/x-python",
   "name": "python",
   "nbconvert_exporter": "python",
   "pygments_lexer": "ipython3",
   "version": "3.10.14"
  }
 },
 "nbformat": 4,
 "nbformat_minor": 2
}
