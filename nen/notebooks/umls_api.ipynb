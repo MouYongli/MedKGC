{
 "cells": [
  {
   "cell_type": "markdown",
   "metadata": {},
   "source": [
    "# use_umls_api(term, version=\"current\")\n",
    "example result:\n",
    "```json\n",
    "{'name': 'Heart',\n",
    "                         'rootSource': 'MTH',\n",
    "                         'ui': 'C0018787',\n",
    "                         'uri': 'https://uts-ws.nlm.nih.gov/rest/content/2024AA/CUI/C0018787'}\n",
    "```\n",
    "\n",
    "only name with id, definition not present\n"
   ]
  },
  {
   "cell_type": "code",
   "execution_count": 2,
   "metadata": {},
   "outputs": [
    {
     "name": "stdout",
     "output_type": "stream",
     "text": [
      "{'pageNumber': 1,\n",
      " 'pageSize': 25,\n",
      " 'result': {'classType': 'searchResults',\n",
      "            'recCount': 8196,\n",
      "            'results': [{'name': 'Lung',\n",
      "                         'rootSource': 'MTH',\n",
      "                         'ui': 'C0024109',\n",
      "                         'uri': 'https://uts-ws.nlm.nih.gov/rest/content/2024AA/CUI/C0024109'},\n",
      "                        {'name': 'Chest>Lung',\n",
      "                         'rootSource': 'MTH',\n",
      "                         'ui': 'C4037972',\n",
      "                         'uri': 'https://uts-ws.nlm.nih.gov/rest/content/2024AA/CUI/C4037972'},\n",
      "                        {'name': \"Farmer's Lung\",\n",
      "                         'rootSource': 'MSH',\n",
      "                         'ui': 'C0015634',\n",
      "                         'uri': 'https://uts-ws.nlm.nih.gov/rest/content/2024AA/CUI/C0015634'},\n",
      "                        {'name': 'Lung diseases',\n",
      "                         'rootSource': 'MTH',\n",
      "                         'ui': 'C0024115',\n",
      "                         'uri': 'https://uts-ws.nlm.nih.gov/rest/content/2024AA/CUI/C0024115'},\n",
      "                        {'name': 'Lung Transplantation',\n",
      "                         'rootSource': 'MTH',\n",
      "                         'ui': 'C0024128',\n",
      "                         'uri': 'https://uts-ws.nlm.nih.gov/rest/content/2024AA/CUI/C0024128'},\n",
      "                        {'name': 'Lung Abscess',\n",
      "                         'rootSource': 'MTH',\n",
      "                         'ui': 'C0024110',\n",
      "                         'uri': 'https://uts-ws.nlm.nih.gov/rest/content/2024AA/CUI/C0024110'},\n",
      "                        {'name': 'Lung Neoplasms',\n",
      "                         'rootSource': 'MTH',\n",
      "                         'ui': 'C0024121',\n",
      "                         'uri': 'https://uts-ws.nlm.nih.gov/rest/content/2024AA/CUI/C0024121'},\n",
      "                        {'name': 'Malignant neoplasm of lung',\n",
      "                         'rootSource': 'MTH',\n",
      "                         'ui': 'C0242379',\n",
      "                         'uri': 'https://uts-ws.nlm.nih.gov/rest/content/2024AA/CUI/C0242379'},\n",
      "                        {'name': 'Humidifier lung',\n",
      "                         'rootSource': 'SNOMEDCT_US',\n",
      "                         'ui': 'C0155891',\n",
      "                         'uri': 'https://uts-ws.nlm.nih.gov/rest/content/2024AA/CUI/C0155891'},\n",
      "                        {'name': \"Bird Fancier's Lung\",\n",
      "                         'rootSource': 'MSH',\n",
      "                         'ui': 'C0005592',\n",
      "                         'uri': 'https://uts-ws.nlm.nih.gov/rest/content/2024AA/CUI/C0005592'},\n",
      "                        {'name': 'Lung Diseases, Interstitial',\n",
      "                         'rootSource': 'MTH',\n",
      "                         'ui': 'C0206062',\n",
      "                         'uri': 'https://uts-ws.nlm.nih.gov/rest/content/2024AA/CUI/C0206062'},\n",
      "                        {'name': 'Congenital absence of lung',\n",
      "                         'rootSource': 'MTH',\n",
      "                         'ui': 'C0265780',\n",
      "                         'uri': 'https://uts-ws.nlm.nih.gov/rest/content/2024AA/CUI/C0265780'},\n",
      "                        {'name': 'Aluminosis of lung',\n",
      "                         'rootSource': 'MTH',\n",
      "                         'ui': 'C0311227',\n",
      "                         'uri': 'https://uts-ws.nlm.nih.gov/rest/content/2024AA/CUI/C0311227'},\n",
      "                        {'name': \"Malt-workers' lung\",\n",
      "                         'rootSource': 'SNOMEDCT_US',\n",
      "                         'ui': 'C0155888',\n",
      "                         'uri': 'https://uts-ws.nlm.nih.gov/rest/content/2024AA/CUI/C0155888'},\n",
      "                        {'name': 'Adenocarcinoma of lung (disorder)',\n",
      "                         'rootSource': 'MTH',\n",
      "                         'ui': 'C0152013',\n",
      "                         'uri': 'https://uts-ws.nlm.nih.gov/rest/content/2024AA/CUI/C0152013'},\n",
      "                        {'name': 'Lung consolidation',\n",
      "                         'rootSource': 'MTH',\n",
      "                         'ui': 'C0521530',\n",
      "                         'uri': 'https://uts-ws.nlm.nih.gov/rest/content/2024AA/CUI/C0521530'},\n",
      "                        {'name': 'Lung Injury',\n",
      "                         'rootSource': 'MSH',\n",
      "                         'ui': 'C0273115',\n",
      "                         'uri': 'https://uts-ws.nlm.nih.gov/rest/content/2024AA/CUI/C0273115'},\n",
      "                        {'name': 'Lung mass',\n",
      "                         'rootSource': 'SNOMEDCT_US',\n",
      "                         'ui': 'C0149726',\n",
      "                         'uri': 'https://uts-ws.nlm.nih.gov/rest/content/2024AA/CUI/C0149726'},\n",
      "                        {'name': 'Lung cyst',\n",
      "                         'rootSource': 'MTH',\n",
      "                         'ui': 'C0546483',\n",
      "                         'uri': 'https://uts-ws.nlm.nih.gov/rest/content/2024AA/CUI/C0546483'},\n",
      "                        {'name': 'Rheumatoid lung disease',\n",
      "                         'rootSource': 'MTH',\n",
      "                         'ui': 'C0994344',\n",
      "                         'uri': 'https://uts-ws.nlm.nih.gov/rest/content/2024AA/CUI/C0994344'},\n",
      "                        {'name': 'lung left lung mass',\n",
      "                         'rootSource': 'CHV',\n",
      "                         'ui': 'C0746117',\n",
      "                         'uri': 'https://uts-ws.nlm.nih.gov/rest/content/2024AA/CUI/C0746117'},\n",
      "                        {'name': 'Left lung',\n",
      "                         'rootSource': 'MTH',\n",
      "                         'ui': 'C0225730',\n",
      "                         'uri': 'https://uts-ws.nlm.nih.gov/rest/content/2024AA/CUI/C0225730'},\n",
      "                        {'name': 'Right lung',\n",
      "                         'rootSource': 'MTH',\n",
      "                         'ui': 'C0225706',\n",
      "                         'uri': 'https://uts-ws.nlm.nih.gov/rest/content/2024AA/CUI/C0225706'},\n",
      "                        {'name': 'Candidiasis of lung',\n",
      "                         'rootSource': 'SNOMEDCT_US',\n",
      "                         'ui': 'C0153251',\n",
      "                         'uri': 'https://uts-ws.nlm.nih.gov/rest/content/2024AA/CUI/C0153251'},\n",
      "                        {'name': \"granite worker's lung; lung\",\n",
      "                         'rootSource': 'ICPC2ICD10ENG',\n",
      "                         'ui': 'C1398937',\n",
      "                         'uri': 'https://uts-ws.nlm.nih.gov/rest/content/2024AA/CUI/C1398937'}]}}\n"
     ]
    }
   ],
   "source": [
    "import sys\n",
    "import os\n",
    "from pprint import pprint\n",
    "\n",
    "# Add the parent directory to the Python path\n",
    "parent_dir = os.path.abspath(os.path.join(os.getcwd(), '..'))\n",
    "sys.path.append(parent_dir)\n",
    "\n",
    "# Now we can import from utils\n",
    "from utils.umls_api import use_umls_api_term\n",
    "\n",
    "# Example usage\n",
    "# lungs\n",
    "\n",
    "# lung\n",
    "pprint(use_umls_api_term(\"lung\"))"
   ]
  },
  {
   "cell_type": "code",
   "execution_count": 2,
   "metadata": {},
   "outputs": [
    {
     "name": "stdout",
     "output_type": "stream",
     "text": [
      "{'pageNumber': 1,\n",
      " 'pageSize': 25,\n",
      " 'partialSearch': 'https://uts-ws.nlm.nih.gov/rest/search/current?string=cardiomediastinal&partialSearch=true',\n",
      " 'result': {'classType': 'searchResults', 'recCount': 0, 'results': []}}\n"
     ]
    }
   ],
   "source": [
    "# cardiomediastinal\n",
    "pprint(use_umls_api_term(\"cardiomediastinal\"))"
   ]
  },
  {
   "cell_type": "code",
   "execution_count": 3,
   "metadata": {},
   "outputs": [
    {
     "name": "stdout",
     "output_type": "stream",
     "text": [
      "(None, None)\n",
      "('C1548787', 'Appropriate')\n",
      "('C1440917', 'little c')\n"
     ]
    }
   ],
   "source": [
    "from utils.umls_api import umls_find_term\n",
    "\n",
    "# cardiomediastinal\n",
    "pprint(umls_find_term(\"cardiomediastinal\"))\n",
    "\n",
    "# appropriate\n",
    "pprint(umls_find_term(\"appropriate\"))\n",
    "\n",
    "# little\n",
    "pprint(umls_find_term(\"little\"))"
   ]
  },
  {
   "cell_type": "markdown",
   "metadata": {},
   "source": [
    "# use_umls_api(term, version=\"current\")\n",
    "more info with uri for ui\n",
    "\n",
    "semanticTypes would be found"
   ]
  },
  {
   "cell_type": "code",
   "execution_count": 4,
   "metadata": {},
   "outputs": [
    {
     "name": "stdout",
     "output_type": "stream",
     "text": [
      "{'pageCount': 1,\n",
      " 'pageNumber': 1,\n",
      " 'pageSize': 25,\n",
      " 'result': {'atomCount': 83,\n",
      "            'atoms': 'https://uts-ws.nlm.nih.gov/rest/content/2024AA/CUI/C0018787/atoms',\n",
      "            'attributeCount': 0,\n",
      "            'classType': 'Concept',\n",
      "            'cvMemberCount': 0,\n",
      "            'dateAdded': '09-30-1990',\n",
      "            'defaultPreferredAtom': 'https://uts-ws.nlm.nih.gov/rest/content/2024AA/CUI/C0018787/atoms/preferred',\n",
      "            'definitions': 'https://uts-ws.nlm.nih.gov/rest/content/2024AA/CUI/C0018787/definitions',\n",
      "            'majorRevisionDate': '04-28-2021',\n",
      "            'name': 'Heart',\n",
      "            'relationCount': 318,\n",
      "            'relations': 'https://uts-ws.nlm.nih.gov/rest/content/2024AA/CUI/C0018787/relations',\n",
      "            'semanticTypes': [{'name': 'Body Part, Organ, or Organ Component',\n",
      "                               'uri': 'https://uts-ws.nlm.nih.gov/rest/semantic-network/2024AA/TUI/T023'}],\n",
      "            'status': 'R',\n",
      "            'suppressible': False,\n",
      "            'ui': 'C0018787'}}\n"
     ]
    }
   ],
   "source": [
    "from utils.umls_api import use_umls_api_url\n",
    "\n",
    "# https://uts-ws.nlm.nih.gov/rest/content/2024AA/CUI/C0018787\n",
    "pprint(use_umls_api_url('https://uts-ws.nlm.nih.gov/rest/content/2024AA/CUI/C0018787'))"
   ]
  },
  {
   "cell_type": "code",
   "execution_count": 5,
   "metadata": {},
   "outputs": [
    {
     "name": "stdout",
     "output_type": "stream",
     "text": [
      "{'pageCount': 1,\n",
      " 'pageNumber': 1,\n",
      " 'pageSize': 25,\n",
      " 'result': [{'classType': 'Definition',\n",
      "             'rootSource': 'MSHNOR',\n",
      "             'sourceOriginated': True,\n",
      "             'value': 'Det hule, muskulære organet som opprettholder '\n",
      "                      'blodsirkulasjonen.'},\n",
      "            {'classType': 'Definition',\n",
      "             'rootSource': 'MSHPOR',\n",
      "             'sourceOriginated': True,\n",
      "             'value': 'Órgão muscular, oco, que mantém a circulação '\n",
      "                      'sanguínea.'},\n",
      "            {'classType': 'Definition',\n",
      "             'rootSource': 'MSH',\n",
      "             'sourceOriginated': True,\n",
      "             'value': 'The hollow, muscular organ that maintains the '\n",
      "                      'circulation of the blood.'},\n",
      "            {'classType': 'Definition',\n",
      "             'rootSource': 'FMA',\n",
      "             'sourceOriginated': True,\n",
      "             'value': 'Organ with cavitated organ parts, each instance of '\n",
      "                      'which is continuous with some systemic and pulmonary '\n",
      "                      'arterial and venous trees. Examples: There is only one '\n",
      "                      'heart.'},\n",
      "            {'classType': 'Definition',\n",
      "             'rootSource': 'UWDA',\n",
      "             'sourceOriginated': True,\n",
      "             'value': 'Organ with cavitated organ parts, which is connected to '\n",
      "                      'the systemic and pulmonary arterial and venous trees. '\n",
      "                      'Examples: There is only one heart.'},\n",
      "            {'classType': 'Definition',\n",
      "             'rootSource': 'NCI',\n",
      "             'sourceOriginated': True,\n",
      "             'value': 'A hollow organ located slightly to the left of the '\n",
      "                      'middle portion of the chest. It is composed of muscle '\n",
      "                      'and it is divided by a septum into two sides: the right '\n",
      "                      'side which receives de-oxygenated blood from the body '\n",
      "                      'and the left side which sends newly oxygenated blood to '\n",
      "                      'the body. Each side is composed of two chambers: the '\n",
      "                      'atrium (receiving blood) and ventricle (ejecting '\n",
      "                      'blood).'},\n",
      "            {'classType': 'Definition',\n",
      "             'rootSource': 'MSHCZE',\n",
      "             'sourceOriginated': True,\n",
      "             'value': 'Dutý, svalnatý orgán, který udržuje krevní oběh.'},\n",
      "            {'classType': 'Definition',\n",
      "             'rootSource': 'CSP',\n",
      "             'sourceOriginated': True,\n",
      "             'value': 'hollow, muscular organ that maintains the circulation '\n",
      "                      'of the blood.'},\n",
      "            {'classType': 'Definition',\n",
      "             'rootSource': 'MSHSPA',\n",
      "             'sourceOriginated': True,\n",
      "             'value': 'Órgano muscular, hueco, que mantiene la circulación de '\n",
      "                      'la sangre.'},\n",
      "            {'classType': 'Definition',\n",
      "             'rootSource': 'MSHSWE',\n",
      "             'sourceOriginated': True,\n",
      "             'value': 'Det ihåliga, muskulära organ som upprätthåller '\n",
      "                      'blodcirkulationen.'}]}\n"
     ]
    }
   ],
   "source": [
    "pprint(use_umls_api_url('https://uts-ws.nlm.nih.gov/rest/content/2024AA/CUI/C0018787/definitions'))"
   ]
  },
  {
   "cell_type": "markdown",
   "metadata": {},
   "source": [
    "# get semanticTypes"
   ]
  },
  {
   "cell_type": "code",
   "execution_count": 2,
   "metadata": {},
   "outputs": [
    {
     "name": "stdout",
     "output_type": "stream",
     "text": [
      "Body Part, Organ, or Organ Component\n"
     ]
    }
   ],
   "source": [
    "import sys\n",
    "import os\n",
    "from pprint import pprint\n",
    "\n",
    "# Add the parent directory to the Python path\n",
    "parent_dir = os.path.abspath(os.path.join(os.getcwd(), '..'))\n",
    "sys.path.append(parent_dir)\n",
    "from utils.umls_api import umls_id2semantic\n",
    "\n",
    "print(umls_id2semantic(\"C0018787\"))\n"
   ]
  },
  {
   "cell_type": "markdown",
   "metadata": {},
   "source": [
    "# get (Definition, source)\n",
    "but a concept could have no definition"
   ]
  },
  {
   "cell_type": "code",
   "execution_count": 7,
   "metadata": {},
   "outputs": [
    {
     "name": "stdout",
     "output_type": "stream",
     "text": [
      "('Det hule, muskulære organet som opprettholder blodsirkulasjonen.', 'MSHNOR')\n"
     ]
    }
   ],
   "source": [
    "from utils.umls_api import umls_id2definition\n",
    "\n",
    "# umls_id2definition\n",
    "print(umls_id2definition(\"C0018787\"))\n",
    "\n"
   ]
  },
  {
   "cell_type": "markdown",
   "metadata": {},
   "source": [
    "# nomralize_entity_with_umls"
   ]
  },
  {
   "cell_type": "code",
   "execution_count": 3,
   "metadata": {},
   "outputs": [
    {
     "name": "stdout",
     "output_type": "stream",
     "text": [
      "{'UMLS': {'definition': {'definition': 'Lobular organ the parenchyma of which '\n",
      "                                       'consists of air-filled alveoli which '\n",
      "                                       'communicate with the tracheobronchial '\n",
      "                                       'tree. Examples: There are only two '\n",
      "                                       'instances, right lung and left lung.',\n",
      "                         'source': 'UWDA'},\n",
      "          'name': 'Lung',\n",
      "          'semanticTypes': 'Body Part, Organ, or Organ Component',\n",
      "          'ui': 'C0024109'}}\n",
      "None\n",
      "Query failed: C1548787, Status code: 404\n",
      "{'UMLS': {'definition': {'definition': None, 'source': None},\n",
      "          'name': 'Appropriate',\n",
      "          'semanticTypes': 'Qualitative Concept',\n",
      "          'ui': 'C1548787'}}\n",
      "Query failed: C1440917, Status code: 404\n",
      "{'UMLS': {'definition': {'definition': None, 'source': None},\n",
      "          'name': 'little c',\n",
      "          'semanticTypes': 'Immunologic Factor',\n",
      "          'ui': 'C1440917'}}\n",
      "Query failed: C2963144, Status code: 404\n",
      "{'UMLS': {'definition': {'definition': None, 'source': None},\n",
      "          'name': 'Clear',\n",
      "          'semanticTypes': 'Qualitative Concept',\n",
      "          'ui': 'C2963144'}}\n"
     ]
    }
   ],
   "source": [
    "import sys\n",
    "import os\n",
    "from pprint import pprint\n",
    "\n",
    "# Add the parent directory to the Python path\n",
    "parent_dir = os.path.abspath(os.path.join(os.getcwd(), '..'))\n",
    "sys.path.append(parent_dir)\n",
    "\n",
    "from utils.umls_api import nomralize_entity_with_umls\n",
    "\n",
    "# Example usage:\n",
    "result = nomralize_entity_with_umls(\"Lungs\")\n",
    "pprint(result)\n",
    "\n",
    "# cardiomediastinal\n",
    "pprint(nomralize_entity_with_umls(\"Cardiomediastinal\"))\n",
    "\n",
    "# appropriate has no definition\n",
    "pprint(nomralize_entity_with_umls(\"appropriate\"))\n",
    "\n",
    "# little\n",
    "pprint(nomralize_entity_with_umls(\"little\"))\n",
    "\n",
    "# clear\n",
    "pprint(nomralize_entity_with_umls(\"clear\"))\n",
    "\n",
    "# distal\n",
    "\n"
   ]
  }
 ],
 "metadata": {
  "kernelspec": {
   "display_name": "medkgc",
   "language": "python",
   "name": "medkgc"
  },
  "language_info": {
   "codemirror_mode": {
    "name": "ipython",
    "version": 3
   },
   "file_extension": ".py",
   "mimetype": "text/x-python",
   "name": "python",
   "nbconvert_exporter": "python",
   "pygments_lexer": "ipython3",
   "version": "3.10.14"
  }
 },
 "nbformat": 4,
 "nbformat_minor": 2
}
