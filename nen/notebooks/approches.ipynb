{
 "cells": [
  {
   "cell_type": "markdown",
   "metadata": {},
   "source": [
    "# Read MRCONSO.RRF file\n",
    "## Target subset of UMLS"
   ]
  },
  {
   "cell_type": "code",
   "execution_count": 1,
   "metadata": {},
   "outputs": [
    {
     "name": "stdout",
     "output_type": "stream",
     "text": [
      "898720\n"
     ]
    }
   ],
   "source": [
    "import csv\n",
    "\n",
    "# 定义文件路径  /DATA1/llm-research/2022AA-full/\n",
    "mrconso_path = '../resource/Radiology/2024AA/META/MRCONSO.RRF'\n",
    "\n",
    "concepts = {}\n",
    "\n",
    "with open(mrconso_path, 'r', encoding='utf-8') as f:\n",
    "    reader = csv.reader(f, delimiter='|')\n",
    "    for row in reader:\n",
    "        cui = row[0]\n",
    "        concept_name = row[14]\n",
    "        concepts[cui] = concept_name\n",
    "\n",
    "print(len(concepts))\n"
   ]
  },
  {
   "cell_type": "code",
   "execution_count": null,
   "metadata": {},
   "outputs": [],
   "source": []
  }
 ],
 "metadata": {
  "kernelspec": {
   "display_name": "medkgc",
   "language": "python",
   "name": "python3"
  },
  "language_info": {
   "codemirror_mode": {
    "name": "ipython",
    "version": 3
   },
   "file_extension": ".py",
   "mimetype": "text/x-python",
   "name": "python",
   "nbconvert_exporter": "python",
   "pygments_lexer": "ipython3",
   "version": "3.10.14"
  }
 },
 "nbformat": 4,
 "nbformat_minor": 2
}
