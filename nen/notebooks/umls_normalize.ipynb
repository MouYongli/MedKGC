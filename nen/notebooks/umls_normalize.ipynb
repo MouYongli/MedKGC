{
 "cells": [
  {
   "cell_type": "markdown",
   "metadata": {},
   "source": [
    "# Read enetiy file"
   ]
  },
  {
   "cell_type": "code",
   "execution_count": null,
   "metadata": {},
   "outputs": [
    {
     "name": "stdout",
     "output_type": "stream",
     "text": [
      "Total number of entities: 1250\n"
     ]
    }
   ],
   "source": [
    "import json\n",
    "from pprint import pprint\n",
    "\n",
    "file_path = '../../resource/all_unique_entities.json'\n",
    "\n",
    "# Read the JSON file\n",
    "with open(file_path, 'r', encoding='utf-8') as f:\n",
    "    all_entities = json.load(f)\n",
    "\n",
    "# Print total number of entities\n",
    "print(f\"Total number of entities: {len(all_entities)}\")\n",
    "\n",
    "# Print first 2 entities\n",
    "# print(\"\\nFirst 2 entities:\")\n",
    "# for i, (key, value) in enumerate(list(all_entities.items())[:2], 1):\n",
    "#     print(f\"{i}.\")\n",
    "#     pprint({key: value}, width=100, indent=2)"
   ]
  },
  {
   "cell_type": "markdown",
   "metadata": {},
   "source": [
    "## Suppoed result"
   ]
  },
  {
   "cell_type": "markdown",
   "metadata": {},
   "source": [
    "```json\n",
    "            \"normalization\":{\n",
    "                                \"UMLS\" : {\n",
    "                                    \"ui\": \"C0000005\",\n",
    "                                    \"name\": \"Blood\",\n",
    "                                    \"definition\": {\n",
    "                                        \"definition\": \"The fluid that circulates in the vascular system of a living organism.\",\n",
    "                                        \"source\": \"MSH\"\n",
    "                                        }\n",
    "                                    }\n",
    "                            }\n",
    "```"
   ]
  },
  {
   "cell_type": "markdown",
   "metadata": {},
   "source": [
    "# test for some unnormalized entity"
   ]
  },
  {
   "cell_type": "code",
   "execution_count": 2,
   "metadata": {},
   "outputs": [],
   "source": [
    "import sys\n",
    "import os\n",
    "from pprint import pprint\n",
    "\n",
    "# Add the parent directory to the Python path\n",
    "parent_dir = os.path.abspath(os.path.join(os.getcwd(), '..'))\n",
    "sys.path.append(parent_dir)\n",
    "\n",
    "from utils.umls_api import nomralize_entity_with_umls\n",
    "\n",
    "# Example usage:\n",
    "result = nomralize_entity_with_umls(\"Lungs\")\n",
    "pprint(result)\n",
    "\n",
    "# cardiomediastinal\n",
    "pprint(nomralize_entity_with_umls(\"Cardiomediastinal\"))\n",
    "\n",
    "# appropriate has no definition\n",
    "pprint(nomralize_entity_with_umls(\"appropriate\"))\n",
    "\n",
    "# little\n",
    "pprint(nomralize_entity_with_umls(\"little\"))\n",
    "\n",
    "# clear\n",
    "pprint(nomralize_entity_with_umls(\"clear\"))\n",
    "\n",
    "# distal\n",
    "\n"
   ]
  },
  {
   "cell_type": "markdown",
   "metadata": {},
   "source": [
    "# Main Programm"
   ]
  },
  {
   "cell_type": "code",
   "execution_count": null,
   "metadata": {},
   "outputs": [],
   "source": [
    "import json\n",
    "import pprint\n",
    "\n",
    "# Specify the file path\n",
    "file_path = '../resource/all_unique_entities.json'\n",
    "\n",
    "# Read the JSON file\n",
    "with open(file_path, 'r', encoding='utf-8') as f:\n",
    "    all_entities = json.load(f)\n",
    "\n",
    "import json\n",
    "import pprint\n",
    "import time\n",
    "\n",
    "# newEntity = {}\n",
    "# i = 0\n",
    "\n",
    "\n",
    "# 遍历顶层字典中的所有项目\n",
    "for entity, entity_value in all_entities.items():\n",
    "\n",
    "    normalization = nomralize_entity_with_umls(entity)\n",
    "\n",
    "    if normalization['UMLS']['ui'] != 'No results':\n",
    "        # set value['normalization']\n",
    "        entity_value['normalization'] = normalization\n",
    "\n",
    "    time.sleep(0.1)\n",
    "\n",
    "    # newEntity[entity] = entity_value\n",
    "    # i += 1\n",
    "    # if i > 5:\n",
    "    #     break\n",
    "    \n",
    "\n",
    "# 保存新的 newEntity 数据\n",
    "# with open('../resource/all_unique_entities_normalized.json', 'w') as f:\n",
    "#     json.dump(all_entities, f, indent=2)\n",
    "\n",
    "print(\"数据已保存到 '../resource/all_unique_entities_normalized.json 文件中。\")"
   ]
  },
  {
   "cell_type": "markdown",
   "metadata": {},
   "source": [
    "# OpenAI "
   ]
  },
  {
   "cell_type": "code",
   "execution_count": 1,
   "metadata": {},
   "outputs": [
    {
     "name": "stdout",
     "output_type": "stream",
     "text": [
      "[{'name': 'Distal (qualifier value)',\n",
      "  'rootSource': 'MTH',\n",
      "  'ui': 'C0205108',\n",
      "  'uri': 'https://uts-ws.nlm.nih.gov/rest/content/2024AA/CUI/C0205108'},\n",
      " {'name': 'Distal Resection Margin',\n",
      "  'rootSource': 'MTH',\n",
      "  'ui': 'C4522154',\n",
      "  'uri': 'https://uts-ws.nlm.nih.gov/rest/content/2024AA/CUI/C4522154'},\n",
      " {'name': 'Distal Muscular Dystrophies',\n",
      "  'rootSource': 'MTH',\n",
      "  'ui': 'C0751336',\n",
      "  'uri': 'https://uts-ws.nlm.nih.gov/rest/content/2024AA/CUI/C0751336'},\n",
      " {'name': 'Distal Renal Tubular Acidosis',\n",
      "  'rootSource': 'MTH',\n",
      "  'ui': 'C1704380',\n",
      "  'uri': 'https://uts-ws.nlm.nih.gov/rest/content/2024AA/CUI/C1704380'},\n",
      " {'name': 'Distal subtotal pancreatectomy',\n",
      "  'rootSource': 'SNOMEDCT_US',\n",
      "  'ui': 'C0176940',\n",
      "  'uri': 'https://uts-ws.nlm.nih.gov/rest/content/2024AA/CUI/C0176940'}]\n"
     ]
    }
   ],
   "source": [
    "# pprint(response['result']['results'])\n",
    "import openai\n",
    "import json\n",
    "\n",
    "\n",
    "\n",
    "import sys\n",
    "import os\n",
    "from pprint import pprint\n",
    "\n",
    "# Add the parent directory to the Python path\n",
    "parent_dir = os.path.abspath(os.path.join(os.getcwd(), '..'))\n",
    "sys.path.append(parent_dir)\n",
    "from utils.umls_api import use_umls_api_term\n",
    "\n",
    "entity = 'distal'\n",
    "response = use_umls_api_term(entity)\n",
    "\n",
    "\n",
    "result_list = response['result']['results'][:5]\n",
    "# response['result']['results'] first 5\n",
    "pprint(response['result']['results'][:5])\n"
   ]
  },
  {
   "cell_type": "code",
   "execution_count": 2,
   "metadata": {},
   "outputs": [
    {
     "name": "stdout",
     "output_type": "stream",
     "text": [
      "Normalization result: ('unnormalizable', 'unnormalizable')\n"
     ]
    }
   ],
   "source": [
    "import sys\n",
    "import os\n",
    "from pprint import pprint\n",
    "\n",
    "# Add the parent directory to the Python path\n",
    "parent_dir = os.path.abspath(os.path.join(os.getcwd(), '..'))\n",
    "sys.path.append(parent_dir)\n",
    "from utils.umls_api import use_umls_api_term\n",
    "\n",
    "\n",
    "entity = \"cardiomediastinal\"\n",
    "response = use_umls_api_term(entity)\n",
    "result_list = response['result']['results'][:5]\n",
    "model = \"gpt-4\"\n",
    "\n",
    "from utils.umls_api import normalize_entity\n",
    "result = normalize_entity(entity, result_list, model)\n",
    "print(f\"Normalization result: {result}\")\n",
    "\n",
    "\n"
   ]
  },
  {
   "cell_type": "markdown",
   "metadata": {},
   "source": [
    "# GPT normalization"
   ]
  },
  {
   "cell_type": "code",
   "execution_count": null,
   "metadata": {},
   "outputs": [
    {
     "name": "stdout",
     "output_type": "stream",
     "text": [
      "Total number of entities: 1250\n",
      "Number of items with normalization: null: 752\n",
      "Number of entities with normalization: null: 752\n"
     ]
    }
   ],
   "source": [
    "import json\n",
    "from pprint import pprint\n",
    "\n",
    "file_path = '../resource/all_unique_entities_normalized.json'\n",
    "\n",
    "# Read the JSON file\n",
    "with open(file_path, 'r', encoding='utf-8') as f:\n",
    "    all_entities = json.load(f)\n",
    "\n",
    "# Print total number of entities\n",
    "print(f\"Total number of entities: {len(all_entities)}\")\n",
    "\n",
    "\n",
    "# for i, (key, value) in enumerate(list(all_entities.items())[:2], 1):\n",
    "    # pprint({key: value}, width=100, indent=2)\n",
    "\n",
    "# Count the number of items with normalization: null\n",
    "count_null_normalization = sum(1 for data in all_entities.values() if data['normalization'] is None)\n",
    "print(f\"Number of items with normalization: null: {count_null_normalization}\")\n",
    "\n",
    "# get list of all entities with normalization: null\n",
    "entities_null_normalization = [entity for entity, data in all_entities.items() if data['normalization'] is None]\n",
    "# print len of entities_null_normalization\n",
    "print(f\"Number of entities with normalization: null: {len(entities_null_normalization)}\")"
   ]
  },
  {
   "cell_type": "code",
   "execution_count": null,
   "metadata": {},
   "outputs": [
    {
     "name": "stdout",
     "output_type": "stream",
     "text": [
      "cardiomediastinal\n",
      "Normalized entity: UI = unnormalizable, Name = unnormalizable\n",
      "silhouettes\n",
      "Normalized entity: UI = unnormalizable, Name = unnormalizable\n",
      "surfaces\n",
      "Normalized entity: UI = unnormalizable, Name = unnormalizable\n",
      "approximately a 4.6 cm\n",
      "Normalized entity: UI = unnormalizable, Name = unnormalizable\n",
      "carina\n",
      "Normalized entity: UI = unnormalizable, Name = unnormalizable\n",
      "distal\n",
      "Normalized entity: UI = unnormalizable, Name = unnormalizable\n",
      "advanced by at least 11 cm\n",
      "Normalized entity: UI = unnormalizable, Name = unnormalizable\n",
      "contours\n",
      "Normalized entity: UI = unnormalizable, Name = unnormalizable\n",
      "grossly\n",
      "Normalized entity: UI = unnormalizable, Name = unnormalizable\n",
      "unremarkable\n",
      "Normalized entity: UI = unnormalizable, Name = unnormalizable\n"
     ]
    }
   ],
   "source": [
    "model = \"chatgpt-4o-latest\"\n",
    "\n",
    "for entity in entities_null_normalization[:10]:\n",
    "    print(entity)\n",
    "    response = use_umls_api_term(entity)\n",
    "    result_list = response['result']['results'][:5]\n",
    "\n",
    "    ui, name = normalize_entity(entity, result_list, model)\n",
    "    print(f\"Normalized entity: UI = {ui}, Name = {name}\")\n"
   ]
  }
 ],
 "metadata": {
  "kernelspec": {
   "display_name": "medkgc",
   "language": "python",
   "name": "medkgc"
  },
  "language_info": {
   "codemirror_mode": {
    "name": "ipython",
    "version": 3
   },
   "file_extension": ".py",
   "mimetype": "text/x-python",
   "name": "python",
   "nbconvert_exporter": "python",
   "pygments_lexer": "ipython3",
   "version": "3.10.14"
  }
 },
 "nbformat": 4,
 "nbformat_minor": 2
}
