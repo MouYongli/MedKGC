{
 "cells": [
  {
   "cell_type": "markdown",
   "metadata": {},
   "source": [
    "# NER\n",
    "不让llm去确认位置，我自己用算法后期加上。"
   ]
  },
  {
   "cell_type": "markdown",
   "metadata": {},
   "source": [
    "读取一个report从radgraph。"
   ]
  },
  {
   "cell_type": "code",
   "execution_count": 8,
   "metadata": {},
   "outputs": [
    {
     "data": {
      "text/plain": [
       "'FINAL REPORT INDICATION : ___ year old woman with severe COPD , s / p PEA arrest here with respiratory failure and complete heart block , now s / p pacemaker placement / / eval for pacemaker placement , interval pulmonary change COMPARISON : The comparison is made with prior studies including ___ . IMPRESSION : The endotracheal tube tip is 6 cm above the carina . Nasogastric tube tip is beyond the GE junction and off the edge of the film . A left central line is present in the tip is in the mid SVC . A pacemaker is noted on the right in the lead projects over the right ventricle . There is probable scarring in both lung apices . There are no new areas of consolidation . There is upper zone redistribution and cardiomegaly suggesting pulmonary venous hypertension . There is no pneumothorax .'"
      ]
     },
     "execution_count": 8,
     "metadata": {},
     "output_type": "execute_result"
    }
   ],
   "source": [
    "import sys\n",
    "sys.path.append('/home/hbchen/Projects/MedKGC')\n",
    "from ie.utils.ner_eval import Entity, entities_from_radgraph, compute_metrics, entities_from_llm_response\n",
    "from ie.utils.ner import extract_entities\n",
    "import pprint\n",
    "import json\n",
    "\n",
    "# Load test data\n",
    "with open('/home/hbchen/Projects/MedKGC/resource/radgraph/test.json', 'r') as f:\n",
    "    data = json.load(f)\n",
    "\n",
    "index = 0\n",
    "\n",
    "# Get first example\n",
    "for key, value in data.items():\n",
    "    json_result = value['labeler_1']['entities']\n",
    "    text = value['text']\n",
    "    # break\n",
    "    index += 1\n",
    "    \n",
    "    if index == 2:\n",
    "        break\n",
    "\n",
    "text"
   ]
  },
  {
   "cell_type": "code",
   "execution_count": 9,
   "metadata": {},
   "outputs": [
    {
     "data": {
      "text/plain": [
       "{'1': {'tokens': 'endotracheal',\n",
       "  'label': 'OBS-DP',\n",
       "  'start_ix': 57,\n",
       "  'end_ix': 57,\n",
       "  'relations': [['modify', '2']]},\n",
       " '2': {'tokens': 'tube',\n",
       "  'label': 'OBS-DP',\n",
       "  'start_ix': 58,\n",
       "  'end_ix': 58,\n",
       "  'relations': [['located_at', '5']]},\n",
       " '3': {'tokens': 'tip',\n",
       "  'label': 'OBS-DP',\n",
       "  'start_ix': 59,\n",
       "  'end_ix': 59,\n",
       "  'relations': [['modify', '2']]},\n",
       " '4': {'tokens': '6 cm above',\n",
       "  'label': 'OBS-DP',\n",
       "  'start_ix': 61,\n",
       "  'end_ix': 63,\n",
       "  'relations': [['located_at', '5']]},\n",
       " '5': {'tokens': 'carina',\n",
       "  'label': 'ANAT-DP',\n",
       "  'start_ix': 65,\n",
       "  'end_ix': 65,\n",
       "  'relations': []},\n",
       " '6': {'tokens': 'Nasogastric',\n",
       "  'label': 'OBS-DP',\n",
       "  'start_ix': 67,\n",
       "  'end_ix': 67,\n",
       "  'relations': [['modify', '7']]},\n",
       " '7': {'tokens': 'tube',\n",
       "  'label': 'OBS-DP',\n",
       "  'start_ix': 68,\n",
       "  'end_ix': 68,\n",
       "  'relations': []},\n",
       " '8': {'tokens': 'tip',\n",
       "  'label': 'OBS-DP',\n",
       "  'start_ix': 69,\n",
       "  'end_ix': 69,\n",
       "  'relations': [['modify', '7'], ['located_at', '10']]},\n",
       " '9': {'tokens': 'beyond',\n",
       "  'label': 'ANAT-DP',\n",
       "  'start_ix': 71,\n",
       "  'end_ix': 71,\n",
       "  'relations': [['modify', '10']]},\n",
       " '10': {'tokens': 'GE junction',\n",
       "  'label': 'ANAT-DP',\n",
       "  'start_ix': 73,\n",
       "  'end_ix': 74,\n",
       "  'relations': []},\n",
       " '11': {'tokens': 'left',\n",
       "  'label': 'OBS-DP',\n",
       "  'start_ix': 84,\n",
       "  'end_ix': 84,\n",
       "  'relations': [['modify', '13']]},\n",
       " '12': {'tokens': 'central',\n",
       "  'label': 'OBS-DP',\n",
       "  'start_ix': 85,\n",
       "  'end_ix': 85,\n",
       "  'relations': [['modify', '13']]},\n",
       " '13': {'tokens': 'line',\n",
       "  'label': 'OBS-DP',\n",
       "  'start_ix': 86,\n",
       "  'end_ix': 86,\n",
       "  'relations': []},\n",
       " '14': {'tokens': 'tip',\n",
       "  'label': 'OBS-DP',\n",
       "  'start_ix': 91,\n",
       "  'end_ix': 91,\n",
       "  'relations': [['modify', '13'], ['located_at', '16']]},\n",
       " '15': {'tokens': 'mid',\n",
       "  'label': 'ANAT-DP',\n",
       "  'start_ix': 95,\n",
       "  'end_ix': 95,\n",
       "  'relations': [['modify', '16']]},\n",
       " '16': {'tokens': 'SVC',\n",
       "  'label': 'ANAT-DP',\n",
       "  'start_ix': 96,\n",
       "  'end_ix': 96,\n",
       "  'relations': []},\n",
       " '17': {'tokens': 'pacemaker',\n",
       "  'label': 'OBS-DP',\n",
       "  'start_ix': 99,\n",
       "  'end_ix': 99,\n",
       "  'relations': []},\n",
       " '18': {'tokens': 'right',\n",
       "  'label': 'OBS-DP',\n",
       "  'start_ix': 104,\n",
       "  'end_ix': 104,\n",
       "  'relations': [['modify', '17']]},\n",
       " '19': {'tokens': 'lead',\n",
       "  'label': 'OBS-DP',\n",
       "  'start_ix': 107,\n",
       "  'end_ix': 107,\n",
       "  'relations': [['modify', '17'], ['located_at', '22']]},\n",
       " '20': {'tokens': 'over',\n",
       "  'label': 'ANAT-DP',\n",
       "  'start_ix': 109,\n",
       "  'end_ix': 109,\n",
       "  'relations': [['modify', '22']]},\n",
       " '21': {'tokens': 'right',\n",
       "  'label': 'ANAT-DP',\n",
       "  'start_ix': 111,\n",
       "  'end_ix': 111,\n",
       "  'relations': [['modify', '22']]},\n",
       " '22': {'tokens': 'ventricle',\n",
       "  'label': 'ANAT-DP',\n",
       "  'start_ix': 112,\n",
       "  'end_ix': 112,\n",
       "  'relations': []},\n",
       " '23': {'tokens': 'scarring',\n",
       "  'label': 'OBS-U',\n",
       "  'start_ix': 117,\n",
       "  'end_ix': 117,\n",
       "  'relations': [['located_at', '25']]},\n",
       " '24': {'tokens': 'both',\n",
       "  'label': 'ANAT-DP',\n",
       "  'start_ix': 119,\n",
       "  'end_ix': 119,\n",
       "  'relations': [['modify', '26']]},\n",
       " '25': {'tokens': 'lung',\n",
       "  'label': 'ANAT-DP',\n",
       "  'start_ix': 120,\n",
       "  'end_ix': 120,\n",
       "  'relations': []},\n",
       " '26': {'tokens': 'apices',\n",
       "  'label': 'ANAT-DP',\n",
       "  'start_ix': 121,\n",
       "  'end_ix': 121,\n",
       "  'relations': [['modify', '25']]},\n",
       " '27': {'tokens': 'new',\n",
       "  'label': 'OBS-DA',\n",
       "  'start_ix': 126,\n",
       "  'end_ix': 126,\n",
       "  'relations': [['modify', '28']]},\n",
       " '28': {'tokens': 'areas',\n",
       "  'label': 'OBS-DA',\n",
       "  'start_ix': 127,\n",
       "  'end_ix': 127,\n",
       "  'relations': [['modify', '29']]},\n",
       " '29': {'tokens': 'consolidation',\n",
       "  'label': 'OBS-DA',\n",
       "  'start_ix': 129,\n",
       "  'end_ix': 129,\n",
       "  'relations': []},\n",
       " '30': {'tokens': 'upper',\n",
       "  'label': 'ANAT-DP',\n",
       "  'start_ix': 133,\n",
       "  'end_ix': 133,\n",
       "  'relations': [['modify', '31']]},\n",
       " '31': {'tokens': 'zone',\n",
       "  'label': 'ANAT-DP',\n",
       "  'start_ix': 134,\n",
       "  'end_ix': 134,\n",
       "  'relations': []},\n",
       " '32': {'tokens': 'redistribution',\n",
       "  'label': 'OBS-DP',\n",
       "  'start_ix': 135,\n",
       "  'end_ix': 135,\n",
       "  'relations': [['located_at', '31'], ['suggestive_of', '36']]},\n",
       " '33': {'tokens': 'cardiomegaly',\n",
       "  'label': 'OBS-DP',\n",
       "  'start_ix': 137,\n",
       "  'end_ix': 137,\n",
       "  'relations': [['suggestive_of', '36']]},\n",
       " '34': {'tokens': 'pulmonary',\n",
       "  'label': 'ANAT-DP',\n",
       "  'start_ix': 139,\n",
       "  'end_ix': 139,\n",
       "  'relations': [['modify', '35']]},\n",
       " '35': {'tokens': 'venous',\n",
       "  'label': 'ANAT-DP',\n",
       "  'start_ix': 140,\n",
       "  'end_ix': 140,\n",
       "  'relations': []},\n",
       " '36': {'tokens': 'hypertension',\n",
       "  'label': 'OBS-DP',\n",
       "  'start_ix': 141,\n",
       "  'end_ix': 141,\n",
       "  'relations': [['located_at', '35']]},\n",
       " '37': {'tokens': 'pneumothorax',\n",
       "  'label': 'OBS-DA',\n",
       "  'start_ix': 146,\n",
       "  'end_ix': 146,\n",
       "  'relations': []}}"
      ]
     },
     "execution_count": 9,
     "metadata": {},
     "output_type": "execute_result"
    }
   ],
   "source": [
    "json_result"
   ]
  },
  {
   "cell_type": "code",
   "execution_count": 10,
   "metadata": {},
   "outputs": [
    {
     "data": {
      "text/plain": [
       "[Entity(e_type='OBS-DP', start_offset=57, end_offset=57),\n",
       " Entity(e_type='OBS-DP', start_offset=58, end_offset=58),\n",
       " Entity(e_type='OBS-DP', start_offset=59, end_offset=59),\n",
       " Entity(e_type='OBS-DP', start_offset=61, end_offset=63),\n",
       " Entity(e_type='ANAT-DP', start_offset=65, end_offset=65),\n",
       " Entity(e_type='OBS-DP', start_offset=67, end_offset=67),\n",
       " Entity(e_type='OBS-DP', start_offset=68, end_offset=68),\n",
       " Entity(e_type='OBS-DP', start_offset=69, end_offset=69),\n",
       " Entity(e_type='ANAT-DP', start_offset=71, end_offset=71),\n",
       " Entity(e_type='ANAT-DP', start_offset=73, end_offset=74),\n",
       " Entity(e_type='OBS-DP', start_offset=84, end_offset=84),\n",
       " Entity(e_type='OBS-DP', start_offset=85, end_offset=85),\n",
       " Entity(e_type='OBS-DP', start_offset=86, end_offset=86),\n",
       " Entity(e_type='OBS-DP', start_offset=91, end_offset=91),\n",
       " Entity(e_type='ANAT-DP', start_offset=95, end_offset=95),\n",
       " Entity(e_type='ANAT-DP', start_offset=96, end_offset=96),\n",
       " Entity(e_type='OBS-DP', start_offset=99, end_offset=99),\n",
       " Entity(e_type='OBS-DP', start_offset=104, end_offset=104),\n",
       " Entity(e_type='OBS-DP', start_offset=107, end_offset=107),\n",
       " Entity(e_type='ANAT-DP', start_offset=109, end_offset=109),\n",
       " Entity(e_type='ANAT-DP', start_offset=111, end_offset=111),\n",
       " Entity(e_type='ANAT-DP', start_offset=112, end_offset=112),\n",
       " Entity(e_type='OBS-U', start_offset=117, end_offset=117),\n",
       " Entity(e_type='ANAT-DP', start_offset=119, end_offset=119),\n",
       " Entity(e_type='ANAT-DP', start_offset=120, end_offset=120),\n",
       " Entity(e_type='ANAT-DP', start_offset=121, end_offset=121),\n",
       " Entity(e_type='OBS-DA', start_offset=126, end_offset=126),\n",
       " Entity(e_type='OBS-DA', start_offset=127, end_offset=127),\n",
       " Entity(e_type='OBS-DA', start_offset=129, end_offset=129),\n",
       " Entity(e_type='ANAT-DP', start_offset=133, end_offset=133),\n",
       " Entity(e_type='ANAT-DP', start_offset=134, end_offset=134),\n",
       " Entity(e_type='OBS-DP', start_offset=135, end_offset=135),\n",
       " Entity(e_type='OBS-DP', start_offset=137, end_offset=137),\n",
       " Entity(e_type='ANAT-DP', start_offset=139, end_offset=139),\n",
       " Entity(e_type='ANAT-DP', start_offset=140, end_offset=140),\n",
       " Entity(e_type='OBS-DP', start_offset=141, end_offset=141),\n",
       " Entity(e_type='OBS-DA', start_offset=146, end_offset=146)]"
      ]
     },
     "execution_count": 10,
     "metadata": {},
     "output_type": "execute_result"
    }
   ],
   "source": [
    "y_true = entities_from_radgraph(json_result)\n",
    "y_true"
   ]
  },
  {
   "cell_type": "markdown",
   "metadata": {},
   "source": [
    "LLMs工作了。"
   ]
  },
  {
   "cell_type": "code",
   "execution_count": 11,
   "metadata": {},
   "outputs": [
    {
     "name": "stderr",
     "output_type": "stream",
     "text": [
      "2024-11-06 16:08:22 urllib3.connectionpool DEBUG: Resetting dropped connection: ollama.corinth.informatik.rwth-aachen.de\n"
     ]
    },
    {
     "name": "stdout",
     "output_type": "stream",
     "text": [
      "FINAL REPORT INDICATION : ___ year old woman with severe COPD , s / p PEA arrest here with respiratory failure and complete heart block , now s / p pacemaker placement / / eval for pacemaker placement , interval pulmonary change COMPARISON : The comparison is made with prior studies including ___ . IMPRESSION : The endotracheal tube tip is 6 cm above the carina . Nasogastric tube tip is beyond the GE junction and off the edge of the film . A left central line is present in the tip is in the mid SVC . A pacemaker is noted on the right in the lead projects over the right ventricle . There is probable scarring in both lung apices . There are no new areas of consolidation . There is upper zone redistribution and cardiomegaly suggesting pulmonary venous hypertension . There is no pneumothorax .\n"
     ]
    },
    {
     "name": "stderr",
     "output_type": "stream",
     "text": [
      "2024-11-06 16:08:30 urllib3.connectionpool DEBUG: http://ollama.corinth.informatik.rwth-aachen.de:80 \"POST /api/chat HTTP/1.1\" 200 957\n"
     ]
    },
    {
     "data": {
      "text/plain": [
       "{'1': {'tokens': 'endotracheal', 'label': 'OBS-DP'},\n",
       " '2': {'tokens': 'tube', 'label': 'OBS-DP'},\n",
       " '3': {'tokens': 'tip', 'label': 'ANAT-DP'},\n",
       " '4': {'tokens': '6 cm', 'label': 'ANAT-DP'},\n",
       " '5': {'tokens': 'carina', 'label': 'ANAT-DP'},\n",
       " '6': {'tokens': 'Nasogastric', 'label': 'OBS-DP'},\n",
       " '7': {'tokens': 'tube', 'label': 'OBS-DP'},\n",
       " '8': {'tokens': 'tip', 'label': 'ANAT-DP'},\n",
       " '9': {'tokens': 'GE junction', 'label': 'ANAT-DP'},\n",
       " '10': {'tokens': 'off the edge of the film', 'label': 'OBS-DA'},\n",
       " '11': {'tokens': 'left central line', 'label': 'OBS-DP'},\n",
       " '12': {'tokens': 'tip is in the mid SVC', 'label': 'OBS-DP'},\n",
       " '13': {'tokens': 'SVC', 'label': 'ANAT-DP'},\n",
       " '14': {'tokens': 'mid', 'label': 'ANAT-DP'},\n",
       " '15': {'tokens': 'pacemaker', 'label': 'OBS-DP'},\n",
       " '16': {'tokens': 'right ventricle', 'label': 'ANAT-DP'},\n",
       " '17': {'tokens': 'probable scarring', 'label': 'OBS-DA'},\n",
       " '18': {'tokens': 'lung apices', 'label': 'ANAT-DP'},\n",
       " '19': {'tokens': 'consolidation', 'label': 'OBS-DA'},\n",
       " '20': {'tokens': 'upper zone redistribution', 'label': 'OBS-DP'},\n",
       " '21': {'tokens': 'cardiomegaly', 'label': 'OBS-DP'},\n",
       " '22': {'tokens': 'suggesting pulmonary venous hypertension',\n",
       "  'label': 'OBS-U'},\n",
       " '23': {'tokens': 'pneumothorax', 'label': 'OBS-DA'}}"
      ]
     },
     "execution_count": 11,
     "metadata": {},
     "output_type": "execute_result"
    }
   ],
   "source": [
    "print(text)\n",
    "entities = extract_entities(text)\n",
    "entities"
   ]
  },
  {
   "cell_type": "markdown",
   "metadata": {},
   "source": [
    "转化"
   ]
  },
  {
   "cell_type": "code",
   "execution_count": 12,
   "metadata": {},
   "outputs": [
    {
     "data": {
      "text/plain": [
       "[Entity(e_type='OBS-DP', start_offset=57, end_offset=57),\n",
       " Entity(e_type='OBS-DP', start_offset=58, end_offset=58),\n",
       " Entity(e_type='ANAT-DP', start_offset=59, end_offset=59)]"
      ]
     },
     "execution_count": 12,
     "metadata": {},
     "output_type": "execute_result"
    }
   ],
   "source": [
    "pred = entities_from_llm_response(entities, text)\n",
    "pred"
   ]
  },
  {
   "cell_type": "code",
   "execution_count": 6,
   "metadata": {},
   "outputs": [
    {
     "data": {
      "text/plain": [
       "{'correct': 3,\n",
       " 'incorrect': 0,\n",
       " 'partial': 0,\n",
       " 'missed': 34,\n",
       " 'spurious': 0,\n",
       " 'precision': 1.0,\n",
       " 'recall': 0.08108108108108109,\n",
       " 'actual': 3,\n",
       " 'possible': 37}"
      ]
     },
     "execution_count": 6,
     "metadata": {},
     "output_type": "execute_result"
    }
   ],
   "source": [
    "tag = ['OBS-DP', 'ANAT-DP', 'OBS-U', 'OBS-DA']\n",
    "result, evaluation_agg_entities_type = compute_metrics(y_true, pred, tag)\n",
    "\n",
    "result['strict']"
   ]
  },
  {
   "cell_type": "markdown",
   "metadata": {},
   "source": [
    "# Evaluation\n",
    "之前的evaluation是用的token-level的F1，原因是bert的输出是token-level的。\n",
    "\n",
    "现在改成了word-level的F1。"
   ]
  },
  {
   "cell_type": "markdown",
   "metadata": {},
   "source": [
    "## Macro F1\n",
    "定义：Macro F1 是对每个类别单独计算 F1 分数后，再进行算术平均。它给予每个类别相同的重要性，因此在类别不平衡时表现更佳。\n",
    "\n",
    "我们并不知道任何分类的信息，无法计算 Macro F1。"
   ]
  },
  {
   "cell_type": "markdown",
   "metadata": {},
   "source": [
    "## Micro F1"
   ]
  },
  {
   "cell_type": "code",
   "execution_count": 55,
   "metadata": {},
   "outputs": [
    {
     "name": "stdout",
     "output_type": "stream",
     "text": [
      "{'1': {'label': 'ANAT-DP', 'tokens': 'Lungs'},\n",
      " '10': {'label': 'OBS-DA', 'tokens': 'abnormality'},\n",
      " '2': {'label': 'OBS-DP', 'tokens': 'clear'},\n",
      " '3': {'label': 'OBS-DA', 'tokens': 'acute'},\n",
      " '4': {'label': 'ANAT-DP', 'tokens': 'cardiopulmonary'},\n",
      " '5': {'label': 'OBS-DA', 'tokens': 'process'},\n",
      " '6': {'label': 'OBS-DA', 'tokens': 'consolidation'},\n",
      " '7': {'label': 'OBS-DA', 'tokens': 'effusion'},\n",
      " '8': {'label': 'OBS-DA', 'tokens': 'pneumothorax'},\n",
      " '9': {'label': 'OBS-DP', 'tokens': 'significant'}}\n"
     ]
    }
   ],
   "source": [
    "import json\n",
    "import pprint\n",
    "\n",
    "def compare(result_entity, target):\n",
    "    tokens = result_entity[\"tokens\"]\n",
    "    label = result_entity[\"label\"]\n",
    "\n",
    "    target_tokens = target[\"tokens\"]\n",
    "    target_label = target[\"label\"]\n",
    "\n",
    "    # For entity recognition, a predicted entity is considered correct if the predicted span boundaries and predicted entity type are both correct\n",
    "    if tokens == target_tokens and label == target_label:\n",
    "        return True\n",
    "\n",
    "    return result_entity == target\n",
    "\n",
    "import nereval\n",
    "from nereval import Entity\n",
    "\n",
    "def prepare_target_from_radgraph(data):\n",
    "    entities_list = []\n",
    "    \n",
    "    for file_key, file_value in data.items():\n",
    "        if 'labeler_1' in file_value:\n",
    "            labeler_1 = file_value['labeler_1']\n",
    "            if 'entities' in labeler_1:\n",
    "                entities = labeler_1['entities']\n",
    "                for entity_id, entity_info in entities.items():\n",
    "                    entity = Entity(\n",
    "                        entity_info['tokens'],\n",
    "                        entity_info['label'],\n",
    "                        entity_info['start_ix']\n",
    "                    )\n",
    "                    entities_list.append(entity)\n",
    "        elif 'entities' in file_value:\n",
    "            entities = file_value['entities']\n",
    "            for entity_id, entity_info in entities.items():\n",
    "                entity = Entity(\n",
    "                    entity_info['tokens'],\n",
    "                    entity_info['label'],\n",
    "                    entity_info['start_ix']\n",
    "                )\n",
    "                entities_list.append(entity)\n",
    "    \n",
    "    return entities_list\n",
    "\n",
    "# Example usage\n",
    "with open('/home/hbchen/Projects/MedKGC/resource/radgraph/test.json', 'r') as f:\n",
    "    data = json.load(f)\n",
    "\n",
    "y_true = prepare_target_from_radgraph(data)\n",
    "pprint.pprint(entities)\n",
    "\n",
    "\n",
    "def prepare_result_from_text(result, text):\n",
    "    entities_list = []\n",
    "    \n",
    "    for entity_id, entity_info in result.items():\n",
    "        entity = Entity(\n",
    "            entity_info['tokens'],\n",
    "            entity_info['label'],\n",
    "            entity_info.get('start_ix', 0)  # Assuming start_ix is the key for the starting index\n",
    "        )\n",
    "        entities_list.append(entity)\n",
    "    \n",
    "    return entities_list\n"
   ]
  },
  {
   "cell_type": "code",
   "execution_count": 56,
   "metadata": {},
   "outputs": [
    {
     "ename": "NameError",
     "evalue": "name 'prepare_target_from_radgrapgh' is not defined",
     "output_type": "error",
     "traceback": [
      "\u001b[0;31m---------------------------------------------------------------------------\u001b[0m",
      "\u001b[0;31mNameError\u001b[0m                                 Traceback (most recent call last)",
      "Cell \u001b[0;32mIn[56], line 1\u001b[0m\n\u001b[0;32m----> 1\u001b[0m true \u001b[38;5;241m=\u001b[39m \u001b[43mprepare_target_from_radgrapgh\u001b[49m(data)\n\u001b[1;32m      2\u001b[0m pred \u001b[38;5;241m=\u001b[39m prepare_result_from_text(pred)\n\u001b[1;32m      4\u001b[0m \u001b[38;5;28;01mfrom\u001b[39;00m \u001b[38;5;21;01mnervaluate\u001b[39;00m \u001b[38;5;28;01mimport\u001b[39;00m Evaluator\n",
      "\u001b[0;31mNameError\u001b[0m: name 'prepare_target_from_radgrapgh' is not defined"
     ]
    }
   ],
   "source": [
    "true = prepare_target_from_radgrapgh(data)\n",
    "pred = prepare_result_from_text(pred)\n",
    "\n",
    "from nervaluate import Evaluator\n",
    "\n",
    "evaluator = Evaluator(true, pred, tags=['LOC', 'PER'])\n",
    "\n",
    "# Returns overall metrics and metrics for each tag\n",
    "results, results_per_tag, result_indices, result_indices_by_tag = evaluator.evaluate()\n",
    "\n",
    "print(results)"
   ]
  },
  {
   "cell_type": "markdown",
   "metadata": {},
   "source": [
    "# ner_evaluation library\n",
    "from ner_evaluation import compute_metrics\n"
   ]
  },
  {
   "cell_type": "code",
   "execution_count": 10,
   "metadata": {},
   "outputs": [
    {
     "name": "stdout",
     "output_type": "stream",
     "text": [
      "{'actual': 4,\n",
      " 'correct': 3,\n",
      " 'incorrect': 1,\n",
      " 'missed': 0,\n",
      " 'partial': 0,\n",
      " 'possible': 4,\n",
      " 'precision': 0,\n",
      " 'recall': 0,\n",
      " 'spurious': 0}\n"
     ]
    }
   ],
   "source": [
    "from ner_eval import compute_metrics\n",
    "from ner_eval import Entity\n",
    "import pprint   \n",
    "\n",
    "true = [Entity(e_type='MISC', start_offset=12, end_offset=12),\n",
    "        Entity(e_type='LOC', start_offset=15, end_offset=15),\n",
    "        Entity(e_type='PER', start_offset=37, end_offset=39),\n",
    "        Entity(e_type='ORG', start_offset=45, end_offset=46)]\n",
    "\n",
    "pred = [Entity(e_type='MISC', start_offset=12, end_offset=12),\n",
    "        Entity(e_type='LOC', start_offset=15, end_offset=15),\n",
    "        Entity(e_type='PER', start_offset=37, end_offset=39),\n",
    "        Entity(e_type='LOC', start_offset=45, end_offset=46)]\n",
    "\n",
    "tags = ['LOC', 'PER', 'ORG', 'MISC']\n",
    "\n",
    "\n",
    "results, evaluation_agg_entities_type = compute_metrics(true, pred, tags)\n",
    "\n",
    "pprint.pprint(results[\"strict\"])"
   ]
  },
  {
   "cell_type": "markdown",
   "metadata": {},
   "source": [
    "## nervaluate"
   ]
  },
  {
   "cell_type": "code",
   "execution_count": 11,
   "metadata": {},
   "outputs": [
    {
     "name": "stderr",
     "output_type": "stream",
     "text": [
      "2024-10-21 10:41:51 root DEBUG: Imported 2 predictions for 2 true examples\n"
     ]
    },
    {
     "name": "stdout",
     "output_type": "stream",
     "text": [
      "{'ent_type': {'actual': 3,\n",
      "              'correct': 3,\n",
      "              'f1': 1.0,\n",
      "              'incorrect': 0,\n",
      "              'missed': 0,\n",
      "              'partial': 0,\n",
      "              'possible': 3,\n",
      "              'precision': 1.0,\n",
      "              'recall': 1.0,\n",
      "              'spurious': 0},\n",
      " 'exact': {'actual': 3,\n",
      "           'correct': 2,\n",
      "           'f1': 0.6666666666666666,\n",
      "           'incorrect': 1,\n",
      "           'missed': 0,\n",
      "           'partial': 0,\n",
      "           'possible': 3,\n",
      "           'precision': 0.6666666666666666,\n",
      "           'recall': 0.6666666666666666,\n",
      "           'spurious': 0},\n",
      " 'partial': {'actual': 3,\n",
      "             'correct': 2,\n",
      "             'f1': 0.8333333333333334,\n",
      "             'incorrect': 0,\n",
      "             'missed': 0,\n",
      "             'partial': 1,\n",
      "             'possible': 3,\n",
      "             'precision': 0.8333333333333334,\n",
      "             'recall': 0.8333333333333334,\n",
      "             'spurious': 0},\n",
      " 'strict': {'actual': 3,\n",
      "            'correct': 2,\n",
      "            'f1': 0.6666666666666666,\n",
      "            'incorrect': 1,\n",
      "            'missed': 0,\n",
      "            'partial': 0,\n",
      "            'possible': 3,\n",
      "            'precision': 0.6666666666666666,\n",
      "            'recall': 0.6666666666666666,\n",
      "            'spurious': 0}}\n"
     ]
    }
   ],
   "source": [
    "true = [\n",
    "    [{\"label\": \"PER\", \"start\": 2, \"end\": 4}],\n",
    "    [{\"label\": \"LOC\", \"start\": 1, \"end\": 2},\n",
    "     {\"label\": \"LOC\", \"start\": 3, \"end\": 4}]\n",
    "]\n",
    "\n",
    "pred = [\n",
    "    [{\"label\": \"PER\", \"start\": 2, \"end\": 4}],\n",
    "    [{\"label\": \"LOC\", \"start\": 1, \"end\": 1},\n",
    "     {\"label\": \"LOC\", \"start\": 3, \"end\": 4}]\n",
    "]\n",
    "\n",
    "from nervaluate import Evaluator\n",
    "\n",
    "evaluator = Evaluator(true, pred, tags=['LOC', 'PER'])\n",
    "\n",
    "# Returns overall metrics and metrics for each tag\n",
    "\n",
    "results, results_per_tag, result_indices, result_indices_by_tag = evaluator.evaluate()\n",
    "\n",
    "import pprint\n",
    "pprint.pprint(results)"
   ]
  },
  {
   "cell_type": "markdown",
   "metadata": {},
   "source": [
    "# NER with RE"
   ]
  },
  {
   "cell_type": "code",
   "execution_count": null,
   "metadata": {},
   "outputs": [],
   "source": [
    "one_shot = {\n",
    "            \"1\": {\n",
    "                \"tokens\": \"Lungs\",\n",
    "                \"label\": \"ANAT-DP\",\n",
    "                \"relations\": []\n",
    "            },\n",
    "            \"2\": {\n",
    "                \"tokens\": \"clear\",\n",
    "                \"label\": \"OBS-DP\",\n",
    "                \"relations\": [\n",
    "                    [\n",
    "                        \"located_at\",\n",
    "                        \"1\"\n",
    "                    ]\n",
    "                ]\n",
    "            },\n",
    "            \"3\": {\n",
    "                \"tokens\": \"Normal\",\n",
    "                \"label\": \"OBS-DP\",\n",
    "                \"relations\": [\n",
    "                    [\n",
    "                        \"located_at\",\n",
    "                        \"4\"\n",
    "                    ],\n",
    "                    [\n",
    "                        \"located_at\",\n",
    "                        \"5\"\n",
    "                    ],\n",
    "                    [\n",
    "                        \"located_at\",\n",
    "                        \"7\"\n",
    "                    ]\n",
    "                ]\n",
    "            },\n",
    "            \"4\": {\n",
    "                \"tokens\": \"cardiomediastinal\",\n",
    "                \"label\": \"ANAT-DP\",\n",
    "                \"relations\": []\n",
    "            },\n",
    "            \"5\": {\n",
    "                \"tokens\": \"hilar\",\n",
    "                \"label\": \"ANAT-DP\",\n",
    "                \"relations\": []\n",
    "            },\n",
    "            \"6\": {\n",
    "                \"tokens\": \"silhouettes\",\n",
    "                \"label\": \"ANAT-DP\",\n",
    "                \"relations\": [\n",
    "                    [\n",
    "                        \"modify\",\n",
    "                        \"4\"\n",
    "                    ],\n",
    "                    [\n",
    "                        \"modify\",\n",
    "                        \"5\"\n",
    "                    ]\n",
    "                ]\n",
    "            },\n",
    "            \"7\": {\n",
    "                \"tokens\": \"pleural\",\n",
    "                \"label\": \"ANAT-DP\",\n",
    "                \"relations\": []\n",
    "            },\n",
    "            \"8\": {\n",
    "                \"tokens\": \"surfaces\",\n",
    "                \"label\": \"ANAT-DP\",\n",
    "                \"relations\": [\n",
    "                    [\n",
    "                        \"modify\",\n",
    "                        \"7\"\n",
    "                    ]\n",
    "                ]\n",
    "            }\n",
    "    }"
   ]
  },
  {
   "cell_type": "markdown",
   "metadata": {},
   "source": []
  }
 ],
 "metadata": {
  "kernelspec": {
   "display_name": "medkgc",
   "language": "python",
   "name": "python3"
  },
  "language_info": {
   "codemirror_mode": {
    "name": "ipython",
    "version": 3
   },
   "file_extension": ".py",
   "mimetype": "text/x-python",
   "name": "python",
   "nbconvert_exporter": "python",
   "pygments_lexer": "ipython3",
   "version": "3.10.14"
  }
 },
 "nbformat": 4,
 "nbformat_minor": 2
}
