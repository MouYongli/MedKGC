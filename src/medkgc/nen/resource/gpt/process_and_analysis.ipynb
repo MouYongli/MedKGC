{
 "cells": [
  {
   "cell_type": "code",
   "execution_count": 14,
   "metadata": {},
   "outputs": [
    {
     "name": "stdout",
     "output_type": "stream",
     "text": [
      "total number of rows: 1250\n",
      "number of not normalized rows: 362\n"
     ]
    }
   ],
   "source": [
    "import csv\n",
    "\n",
    "# Specify the file path\n",
    "# csv_file_path = 'output_gpt.csv'\n",
    "csv_file_path = '../output_with_report.csv'\n",
    "\n",
    "# Read the data from the CSV file\n",
    "data = []\n",
    "with open(csv_file_path, 'r', encoding='utf-8') as csvfile:\n",
    "    reader = csv.DictReader(csvfile)\n",
    "    for row in reader:\n",
    "        data.append(row)\n",
    "\n",
    "# total number of rows\n",
    "print(f\"total number of rows: {len(data)}\")\n",
    "\n",
    "# count the number of rows with \"ui\" = ''\n",
    "print(f\"number of not normalized rows: {len([row for row in data if row['ui'] == ''])}\")\n",
    "\n"
   ]
  },
  {
   "cell_type": "markdown",
   "metadata": {},
   "source": [
    "# Split"
   ]
  },
  {
   "cell_type": "code",
   "execution_count": 66,
   "metadata": {},
   "outputs": [
    {
     "name": "stdout",
     "output_type": "stream",
     "text": [
      "Data has been written to output_200.xlsx\n",
      "Data has been written to output_401_600.xlsx\n",
      "Data has been written to output_601_800.xlsx\n",
      "Data has been written to output_801_1000.xlsx\n",
      "Data has been written to output_1001_end.xlsx\n"
     ]
    }
   ],
   "source": [
    "import pandas as pd\n",
    "\n",
    "# Read the first 200 data from the CSV file\n",
    "data = pd.read_csv('output_with_report.csv')\n",
    "\n",
    "# print(data[200:400])\n",
    "\n",
    "# Write the first 201-400 data to an Excel file\n",
    "# data.head(200).to_excel('../resource/output_200.xlsx', index=False)\n",
    "# print(\"Data has been written to output_201_400.xlsx\")\n",
    "\n",
    "data[200:400].to_excel('output_201_400.xlsx', index=False)\n",
    "print(\"Data has been written to output_200.xlsx\")\n",
    "\n",
    "data[400:600].to_excel('output_401_600.xlsx', index=False)\n",
    "print(\"Data has been written to output_401_600.xlsx\")\n",
    "\n",
    "data[600:800].to_excel('output_601_800.xlsx', index=False)\n",
    "print(\"Data has been written to output_601_800.xlsx\")\n",
    "\n",
    "data[800:1000].to_excel('output_801_1000.xlsx', index=False)\n",
    "print(\"Data has been written to output_801_1000.xlsx\")\n",
    "\n",
    "# 1000 to end\n",
    "data[1000:].to_excel('output_1001_end.xlsx', index=False)\n",
    "print(\"Data has been written to output_1001_end.xlsx\")\n"
   ]
  },
  {
   "cell_type": "code",
   "execution_count": 62,
   "metadata": {},
   "outputs": [
    {
     "name": "stdout",
     "output_type": "stream",
     "text": [
      "Empty DataFrame\n",
      "Columns: [name, ui, normalized_name, semanticTypes, definition]\n",
      "Index: []\n",
      "Empty DataFrame\n",
      "Columns: [name, ui, normalized_name, semanticTypes, definition, report]\n",
      "Index: []\n",
      "Empty DataFrame\n",
      "Columns: [name, ui, normalized_name, semanticTypes, definition]\n",
      "Index: []\n",
      "Empty DataFrame\n",
      "Columns: [name, ui, normalized_name, semanticTypes, definition, report]\n",
      "Index: []\n",
      "数据已保存到 'output_with_report.csv' 文件中。\n"
     ]
    }
   ],
   "source": [
    "import json\n",
    "import time\n",
    "from pprint import pprint\n",
    "\n",
    "output = 'output_with_report.csv'\n",
    "\n",
    "data1 = pd.read_csv('output_gpt.csv')\n",
    "data2 = pd.read_csv('output_with_report.csv')\n",
    "\n",
    "\n",
    "# print rows with semanticTypes = 'No results' of data1 and data2\n",
    "print(data1[data1['semanticTypes'] == 'No results'])\n",
    "print(data2[data2['semanticTypes'] == 'No results'])\n",
    "\n",
    "# replace the column 'semanticTypes' of data2 to the column 'semanticTypes' of data1\n",
    "data2['semanticTypes'] = data1['semanticTypes']\n",
    "\n",
    "\n",
    "print(data1[data1['semanticTypes'] == 'No results'])\n",
    "print(data2[data2['semanticTypes'] == 'No results'])\n",
    "\n",
    "# Save the updated DataFrame to a new CSV file\n",
    "\n",
    "data2.to_csv(output, index=False)\n",
    "\n",
    "print(f\"数据已保存到 '{output}' 文件中。\")\n",
    "\n",
    "\n"
   ]
  }
 ],
 "metadata": {
  "kernelspec": {
   "display_name": "medkgc",
   "language": "python",
   "name": "medkgc"
  },
  "language_info": {
   "codemirror_mode": {
    "name": "ipython",
    "version": 3
   },
   "file_extension": ".py",
   "mimetype": "text/x-python",
   "name": "python",
   "nbconvert_exporter": "python",
   "pygments_lexer": "ipython3",
   "version": "3.10.14"
  }
 },
 "nbformat": 4,
 "nbformat_minor": 2
}
