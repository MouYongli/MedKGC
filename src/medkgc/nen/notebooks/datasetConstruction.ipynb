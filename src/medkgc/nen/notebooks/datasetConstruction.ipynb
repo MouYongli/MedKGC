{
 "cells": [
  {
   "cell_type": "markdown",
   "metadata": {},
   "source": [
    "# Read all_unique_entities"
   ]
  },
  {
   "cell_type": "code",
   "execution_count": 1,
   "metadata": {},
   "outputs": [
    {
     "ename": "FileNotFoundError",
     "evalue": "[Errno 2] No such file or directory: '../resource/all_unique_entities.json'",
     "output_type": "error",
     "traceback": [
      "\u001b[0;31m---------------------------------------------------------------------------\u001b[0m",
      "\u001b[0;31mFileNotFoundError\u001b[0m                         Traceback (most recent call last)",
      "Cell \u001b[0;32mIn[1], line 5\u001b[0m\n\u001b[1;32m      2\u001b[0m \u001b[38;5;28;01mimport\u001b[39;00m \u001b[38;5;21;01mpprint\u001b[39;00m\n\u001b[1;32m      4\u001b[0m \u001b[38;5;66;03m## Read the saved file\u001b[39;00m\n\u001b[0;32m----> 5\u001b[0m \u001b[38;5;28;01mwith\u001b[39;00m \u001b[38;5;28;43mopen\u001b[39;49m\u001b[43m(\u001b[49m\u001b[38;5;124;43m'\u001b[39;49m\u001b[38;5;124;43m../resource/all_unique_entities.json\u001b[39;49m\u001b[38;5;124;43m'\u001b[39;49m\u001b[43m,\u001b[49m\u001b[43m \u001b[49m\u001b[38;5;124;43m'\u001b[39;49m\u001b[38;5;124;43mr\u001b[39;49m\u001b[38;5;124;43m'\u001b[39;49m\u001b[43m,\u001b[49m\u001b[43m \u001b[49m\u001b[43mencoding\u001b[49m\u001b[38;5;241;43m=\u001b[39;49m\u001b[38;5;124;43m'\u001b[39;49m\u001b[38;5;124;43mutf-8\u001b[39;49m\u001b[38;5;124;43m'\u001b[39;49m\u001b[43m)\u001b[49m \u001b[38;5;28;01mas\u001b[39;00m f:\n\u001b[1;32m      6\u001b[0m     all_unique_entities \u001b[38;5;241m=\u001b[39m json\u001b[38;5;241m.\u001b[39mload(f)\n\u001b[1;32m      8\u001b[0m \u001b[38;5;66;03m# Print the first 10 entities\u001b[39;00m\n",
      "File \u001b[0;32m~/anaconda3/envs/medkgc/lib/python3.10/site-packages/IPython/core/interactiveshell.py:324\u001b[0m, in \u001b[0;36m_modified_open\u001b[0;34m(file, *args, **kwargs)\u001b[0m\n\u001b[1;32m    317\u001b[0m \u001b[38;5;28;01mif\u001b[39;00m file \u001b[38;5;129;01min\u001b[39;00m {\u001b[38;5;241m0\u001b[39m, \u001b[38;5;241m1\u001b[39m, \u001b[38;5;241m2\u001b[39m}:\n\u001b[1;32m    318\u001b[0m     \u001b[38;5;28;01mraise\u001b[39;00m \u001b[38;5;167;01mValueError\u001b[39;00m(\n\u001b[1;32m    319\u001b[0m         \u001b[38;5;124mf\u001b[39m\u001b[38;5;124m\"\u001b[39m\u001b[38;5;124mIPython won\u001b[39m\u001b[38;5;124m'\u001b[39m\u001b[38;5;124mt let you open fd=\u001b[39m\u001b[38;5;132;01m{\u001b[39;00mfile\u001b[38;5;132;01m}\u001b[39;00m\u001b[38;5;124m by default \u001b[39m\u001b[38;5;124m\"\u001b[39m\n\u001b[1;32m    320\u001b[0m         \u001b[38;5;124m\"\u001b[39m\u001b[38;5;124mas it is likely to crash IPython. If you know what you are doing, \u001b[39m\u001b[38;5;124m\"\u001b[39m\n\u001b[1;32m    321\u001b[0m         \u001b[38;5;124m\"\u001b[39m\u001b[38;5;124myou can use builtins\u001b[39m\u001b[38;5;124m'\u001b[39m\u001b[38;5;124m open.\u001b[39m\u001b[38;5;124m\"\u001b[39m\n\u001b[1;32m    322\u001b[0m     )\n\u001b[0;32m--> 324\u001b[0m \u001b[38;5;28;01mreturn\u001b[39;00m \u001b[43mio_open\u001b[49m\u001b[43m(\u001b[49m\u001b[43mfile\u001b[49m\u001b[43m,\u001b[49m\u001b[43m \u001b[49m\u001b[38;5;241;43m*\u001b[39;49m\u001b[43margs\u001b[49m\u001b[43m,\u001b[49m\u001b[43m \u001b[49m\u001b[38;5;241;43m*\u001b[39;49m\u001b[38;5;241;43m*\u001b[39;49m\u001b[43mkwargs\u001b[49m\u001b[43m)\u001b[49m\n",
      "\u001b[0;31mFileNotFoundError\u001b[0m: [Errno 2] No such file or directory: '../resource/all_unique_entities.json'"
     ]
    }
   ],
   "source": [
    "import json\n",
    "import pprint\n",
    "\n",
    "## Read the saved file\n",
    "with open('../resource/all_unique_entities.json', 'r', encoding='utf-8') as f:\n",
    "    all_unique_entities = json.load(f)\n",
    "\n",
    "# Print the first 10 entities\n",
    "print('First 10 entities:')\n",
    "pprint.pprint(list(all_unique_entities.keys())[:10])\n",
    "\n",
    "print(all_unique_entities['Lung']['normalization'])"
   ]
  },
  {
   "cell_type": "markdown",
   "metadata": {},
   "source": [
    "# Construct the json file with ui"
   ]
  },
  {
   "cell_type": "code",
   "execution_count": 4,
   "metadata": {},
   "outputs": [
    {
     "name": "stdout",
     "output_type": "stream",
     "text": [
      "922\n",
      "Done!\n"
     ]
    }
   ],
   "source": [
    "# read xlsx fiel, reviwed.xlsx, ../resource/reviewed.xlsx\n",
    "import pandas as pd\n",
    "input_file = '../humanReview/reviewed.xlsx'\n",
    "\n",
    "df = pd.read_excel(input_file)\n",
    "# print(df.head())\n",
    "\n",
    "i = 0\n",
    "# retrieve the df\n",
    "# set all_unique_entities[df[name]] = df[normalization]\n",
    "for index, row in df.iterrows():\n",
    "\n",
    "    # if df.ui is not nan, then         all_unique_entities[row['name']]['normalization'] = row['ui']\n",
    "    if not pd.isnull(row['ui']):\n",
    "        all_unique_entities[row['name']]['normalization'] = row['ui']\n",
    "        i += 1\n",
    "\n",
    "print(i)\n",
    "\n",
    "\n",
    "\n",
    "\n",
    "\n",
    "# save the file all_unique_entities, ../resource/normalization_all_unique_entities.json\n",
    "with open('../resource/normalization_all_unique_entities.json', 'w', encoding='utf-8') as f:\n",
    "    json.dump(all_unique_entities, f, ensure_ascii=False, indent=4)\n",
    "\n",
    "print('Done!')\n"
   ]
  },
  {
   "cell_type": "markdown",
   "metadata": {},
   "source": [
    "# json to csv file"
   ]
  },
  {
   "cell_type": "code",
   "execution_count": 5,
   "metadata": {},
   "outputs": [
    {
     "name": "stdout",
     "output_type": "stream",
     "text": [
      "First 10 entities:\n",
      "['Lungs',\n",
      " 'clear',\n",
      " 'Normal',\n",
      " 'cardiomediastinal',\n",
      " 'hilar',\n",
      " 'silhouettes',\n",
      " 'pleural',\n",
      " 'surfaces',\n",
      " 'Endotracheal',\n",
      " 'tube']\n"
     ]
    }
   ],
   "source": [
    "import json\n",
    "import pprint\n",
    "import pandas as pd\n",
    "\n",
    "file = '../resource/normalization_all_unique_entities.json'\n",
    "\n",
    "## Read the saved file\n",
    "with open(file, 'r', encoding='utf-8') as f:\n",
    "    all_unique_entities = json.load(f)\n",
    "\n",
    "# Print the first 10 entities\n",
    "print('First 10 entities:')\n",
    "pprint.pprint(list(all_unique_entities.keys())[:10])\n",
    "\n",
    "# prepare the data for csv file, only contains name and normalization\n",
    "data = []\n",
    "for name, info in all_unique_entities.items():\n",
    "    data.append({'name': name, 'normalization': info['normalization']})\n",
    "\n",
    "# Save Output all_entities to a CSV file\n",
    "df = pd.DataFrame(data)\n",
    "df.to_csv('../resource/normalization_all_unique_entities.csv', index=False)\n"
   ]
  }
 ],
 "metadata": {
  "kernelspec": {
   "display_name": "medkgc",
   "language": "python",
   "name": "python3"
  },
  "language_info": {
   "codemirror_mode": {
    "name": "ipython",
    "version": 3
   },
   "file_extension": ".py",
   "mimetype": "text/x-python",
   "name": "python",
   "nbconvert_exporter": "python",
   "pygments_lexer": "ipython3",
   "version": "3.10.14"
  }
 },
 "nbformat": 4,
 "nbformat_minor": 2
}
