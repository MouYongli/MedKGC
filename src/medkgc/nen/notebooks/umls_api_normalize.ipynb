{
 "cells": [
  {
   "cell_type": "markdown",
   "metadata": {},
   "source": [
    "# Read enetiy file"
   ]
  },
  {
   "cell_type": "code",
   "execution_count": 2,
   "metadata": {},
   "outputs": [
    {
     "name": "stdout",
     "output_type": "stream",
     "text": [
      "                name  ui  normalized_name  semanticTypes  definition\n",
      "0              Lungs NaN              NaN            NaN         NaN\n",
      "1              clear NaN              NaN            NaN         NaN\n",
      "2             Normal NaN              NaN            NaN         NaN\n",
      "3  cardiomediastinal NaN              NaN            NaN         NaN\n",
      "4              hilar NaN              NaN            NaN         NaN\n"
     ]
    }
   ],
   "source": [
    "import pandas as pd\n",
    "\n",
    "file_path = '../../resource/not_normalized.csv'\n",
    "\n",
    "df = pd.read_csv(file_path)\n",
    "\n",
    "print(df.head())"
   ]
  },
  {
   "cell_type": "markdown",
   "metadata": {},
   "source": [
    "# Test for some unnormalized entity"
   ]
  },
  {
   "cell_type": "code",
   "execution_count": 3,
   "metadata": {},
   "outputs": [
    {
     "name": "stdout",
     "output_type": "stream",
     "text": [
      "('Lungs',\n",
      " 'C0024109',\n",
      " 'Lung',\n",
      " 'Body Part, Organ, or Organ Component',\n",
      " 'Lobular organ the parenchyma of which consists of air-filled alveoli which '\n",
      " 'communicate with the tracheobronchial tree. Examples: There are only two '\n",
      " 'instances, right lung and left lung.',\n",
      " 'UWDA')\n",
      "None\n",
      "Query failed: C1548787, Status code: 404\n",
      "('appropriate', 'C1548787', 'Appropriate', 'Qualitative Concept', None, None)\n",
      "Query failed: C1440917, Status code: 404\n",
      "('little', 'C1440917', 'little c', 'Immunologic Factor', None, None)\n",
      "Query failed: C2963144, Status code: 404\n",
      "('clear', 'C2963144', 'Clear', 'Qualitative Concept', None, None)\n"
     ]
    }
   ],
   "source": [
    "import sys\n",
    "import os\n",
    "from pprint import pprint\n",
    "\n",
    "# Add the parent directory to the Python path\n",
    "parent_dir = os.path.abspath(os.path.join(os.getcwd(), '..'))\n",
    "sys.path.append(parent_dir)\n",
    "from utils.umls_api import nomralize_entity_with_umls\n",
    "\n",
    "# Example usage:\n",
    "result = nomralize_entity_with_umls(\"Lungs\")\n",
    "pprint(result)\n",
    "\n",
    "# cardiomediastinal\n",
    "pprint(nomralize_entity_with_umls(\"Cardiomediastinal\"))\n",
    "\n",
    "# appropriate has no definition\n",
    "pprint(nomralize_entity_with_umls(\"appropriate\"))\n",
    "\n",
    "# little\n",
    "pprint(nomralize_entity_with_umls(\"little\"))\n",
    "\n",
    "# clear\n",
    "pprint(nomralize_entity_with_umls(\"clear\"))\n",
    "\n",
    "# distal\n",
    "\n"
   ]
  },
  {
   "cell_type": "markdown",
   "metadata": {},
   "source": [
    "# Main Programm"
   ]
  },
  {
   "cell_type": "code",
   "execution_count": 2,
   "metadata": {},
   "outputs": [
    {
     "name": "stderr",
     "output_type": "stream",
     "text": [
      "/tmp/ipykernel_1934492/3145470650.py:25: FutureWarning: Setting an item of incompatible dtype is deprecated and will raise an error in a future version of pandas. Value 'C0018802' has dtype incompatible with float64, please explicitly cast to a compatible dtype first.\n",
      "  df.at[index, 'ui'] = ui\n",
      "/tmp/ipykernel_1934492/3145470650.py:27: FutureWarning: Setting an item of incompatible dtype is deprecated and will raise an error in a future version of pandas. Value 'Disease or Syndrome' has dtype incompatible with float64, please explicitly cast to a compatible dtype first.\n",
      "  df.at[index, 'semanticTypes'] = semanticTypes\n",
      "/tmp/ipykernel_1934492/3145470650.py:28: FutureWarning: Setting an item of incompatible dtype is deprecated and will raise an error in a future version of pandas. Value 'Vznik otoků, transsudátů vede k obrazu tzv. městnavého (kongestivního) selhání srdce. (cit. Velký lékařský slovník online, 2017 http://lekarske.slovniky.cz)' has dtype incompatible with float64, please explicitly cast to a compatible dtype first.\n",
      "  df.at[index, 'definition'] = definition\n"
     ]
    },
    {
     "name": "stdout",
     "output_type": "stream",
     "text": [
      "1 chf C0018802 Congestive heart failure Disease or Syndrome Vznik otoků, transsudátů vede k obrazu tzv. městnavého (kongestivního) selhání srdce. (cit. Velký lékařský slovník online, 2017 http://lekarske.slovniky.cz) MSHCZE\n",
      "2 contusion C0009938 Contusions Injury or Poisoning mechanical injury (usually caused by a blow) resulting in hemorrhage beneath unbroken skin; a bruise. CSP\n",
      "3 marker C5445211 Marker Qualitative Concept A visual indicator of position, place or route. NCI\n",
      "4 pectoralis C0030747 Pectoralis Muscles Body Part, Organ, or Organ Component Velký a malý prsní sval tvoří přední horní část hrudníku před podpažní jamkou (AXILLA). MSHCZE\n",
      "5 muscles C4083049 Muscle (organ) Body Part, Organ, or Organ Component Nonparenchymatous organ that primarily consists of skeletal muscle tissue aggregated into macroscopic fasciculi by connective tissue; together with other muscles, it constitutes the muscular system. Examples: biceps, diaphragm, masseter, right third external intercostal muscle, external oblique, levator ani, serratus anterior. UWDA\n",
      "6 tissues C0040300 Body tissue Tissue Organ part, which is uncountable and consists of similarly specialized cells and intercellular matrix, aggregated according to genetically determined spatial relationships; together with other tissues, it constitutes an organ component. Examples: epithelium, muscle (tissue), connective tissue, neural tissue, lymphoid tissue. UWDA\n",
      "Query umls_id2semantic failed: unnormalizable, Status code: 404\n",
      "Query umls_id2definition failed: unnormalizable, Status code: 404\n",
      "7 7.4 cm unnormalizable unnormalizable None None None\n",
      "Query umls_id2definition failed: C0230077, Status code: 404\n",
      "8 clavicular C0230077 Clavicular region Body Location or Region None None\n",
      "Query umls_id2definition failed: C0444930, Status code: 404\n",
      "9 end C0444930 End Spatial Concept None None\n",
      "10 presumed C4684849 Presumed Qualitative Concept Likely to be true; accepted as true. NCI\n",
      "11 manubrium C0024764 Bone structure of manubrium Body Part, Organ, or Organ Component El segmento superior o más anterior del ESTERNÓN que se articula con la CLAVÍCULA y dos primeros pares de COSTILLAS. MSHSPA\n",
      "12 bleed C0019080 Hemorrhage Pathologic Function Bleeding or escape of blood from a vessel. MSH\n",
      "Query umls_id2semantic failed: unnormalizable, Status code: 404\n",
      "Query umls_id2definition failed: unnormalizable, Status code: 404\n",
      "13 5 cm unnormalizable unnormalizable None None None\n",
      "Query umls_id2semantic failed: unnormalizable, Status code: 404\n",
      "Query umls_id2definition failed: unnormalizable, Status code: 404\n",
      "14 anteriorly unnormalizable unnormalizable None None None\n",
      "Query umls_id2semantic failed: unnormalizable, Status code: 404\n",
      "Query umls_id2definition failed: unnormalizable, Status code: 404\n",
      "15 Lucency unnormalizable unnormalizable None None None\n",
      "Query umls_id2definition failed: C0502720, Status code: 404\n",
      "16 manubrial C0502720 Manubrial cartilage of manubriosternal joint Body Part, Organ, or Organ Component None None\n",
      "17 eventration C0015207 Eventration Anatomical Abnormality A localized protrusion of a structure into an adjacent structure or cavity. NCI\n",
      "18 Dense C0439794 Dense Qualitative Concept Having high relative density or specific gravity; permitting little if any light to pass through. NCI\n",
      "19 pectoral C1521735 Pectoral Qualitative Concept Of or pertaining to the chest. NCI\n",
      "Query umls_id2semantic failed: unnormalizable, Status code: 404\n",
      "Query umls_id2definition failed: unnormalizable, Status code: 404\n",
      "20 not well appreciated unnormalizable unnormalizable None None None\n",
      "Query umls_id2definition failed: C1290905, Status code: 404\n",
      "21 discrepancy C1290905 Discrepancy (finding) Finding None None\n",
      "Query umls_id2semantic failed: unnormalizable, Status code: 404\n",
      "Query umls_id2definition failed: unnormalizable, Status code: 404\n",
      "22 6.6 cm above unnormalizable unnormalizable None None None\n",
      "23 greater than C0439093 Greater Than Quantitative Concept A statement about the relative size or order of two objects specifying that an object of interest exceeds another object in quantity or measure or value or status. NCI\n",
      "24 Widespread C0205391 Widespread Spatial Concept Spread throughout a structure or area. NCI\n",
      "25 improve C0184511 Improved Finding Condition changed and/or recovered CCC\n",
      "26 deteriorated C1457868 Worse Finding In an declined condition. NCI\n",
      "27 interim C2827738 Interim Temporal Concept The time between one event, process, or period and another. NCI\n",
      "28 entire C0439751 Entire Quantitative Concept Including all components without exception; constituting the full amount or extent or duration; complete. NCI\n",
      "29 Pneumothorax C0032326 Pneumothorax Disease or Syndrome Accumulation of air in the pleural cavity leading to a partially or completely collapsed lung. [https://orcid.org/0000-0002-0736-9199] HPO\n",
      "Query umls_id2semantic failed: unnormalizable, Status code: 404\n",
      "Query umls_id2definition failed: unnormalizable, Status code: 404\n",
      "30 2.5 cm above unnormalizable unnormalizable None None None\n",
      "31 inferior vena cava C0042458 Inferior vena cava structure Body Part, Organ, or Organ Component Dolní dutá žíla. Vzniká ze dvou kyčelních žil (vv. iliacae), probíhá vpravo podél aorty a sbírá krev z dolních končetin, pánve, stěny břišní, retroperitonea, jater. (cit. Velký lékařský slovník online, 2019 http://lekarske.slovniky.cz) MSHCZE\n",
      "Query umls_id2semantic failed: unnormalizable, Status code: 404\n",
      "Query umls_id2definition failed: unnormalizable, Status code: 404\n",
      "32 crosses the lower margin of the image unnormalizable unnormalizable None None None\n",
      "Query umls_id2semantic failed: unnormalizable, Status code: 404\n",
      "Query umls_id2definition failed: unnormalizable, Status code: 404\n",
      "33 2.3 cm above unnormalizable unnormalizable None None None\n",
      "34 pneumothorax . C0032326 Pneumothorax Disease or Syndrome Accumulation of air in the pleural cavity leading to a partially or completely collapsed lung. [https://orcid.org/0000-0002-0736-9199] HPO\n",
      "35 intraperitoneal C0442120 Intraperitoneal Spatial Concept Relating to the peritoneal cavity as the intended site of administration. NCI\n",
      "36 recent C0332185 Recent Temporal Concept Near to or not long before the present. NCI\n",
      "Query umls_id2semantic failed: unnormalizable, Status code: 404\n",
      "Query umls_id2definition failed: unnormalizable, Status code: 404\n",
      "37 . unnormalizable unnormalizable None None None\n",
      "38 long C0205166 Long Qualitative Concept Of relatively great or greater than average spatial extension or temporal duration. NCI\n",
      "39 standing C0231472 Standing position Spatial Concept Human position in which the body is held in an upright orthostatic position and supported only by the feet. MSH\n",
      "Query umls_id2definition failed: C3840882, Status code: 404\n",
      "40 5 mm C3840882 5 mm Finding None None\n",
      "41 Aspiration C0349707 Aspiration - action Therapeutic or Preventive Procedure Extracción que utiliza presión negativa SCTSPA\n",
      "42 stool C0015733 Feces Body Substance Excretion in semisolid state processed by the intestine. FMA\n",
      "Query umls_id2definition failed: C0445022, Status code: 404\n",
      "43 loop C0445022 Loop Spatial Concept None None\n",
      "44 colon C0009368 Colon structure (body structure) Body Part, Organ, or Organ Component The part of the large intestine measured from the cecum to the rectum consisting of ascending, transverse, descending and sigmoid portions. The purpose of the colon is to remove water from digested food prior to excretion. NCI\n",
      "45 splenic C0037993 Spleen Body Part, Organ, or Organ Component An organ that is part of the hematopoietic and immune systems. It is composed of the white pulp and the red pulp and is surrounded by a capsule. It is located in the left hypochondriac region. Its functions include lymphocyte production, blood cell storage, and blood cell destruction. NCI\n",
      "46 flexure C1880791 Flexure Anatomical Structure An angular or rounded shape made by folding. NCI\n",
      "Query umls_id2definition failed: C4489118, Status code: 404\n",
      "47 Near - complete C4489118 Near complete Finding None None\n",
      "Query umls_id2definition failed: C1533025, Status code: 404\n",
      "48 Interposition C1533025 Interposition procedure Therapeutic or Preventive Procedure None None\n",
      "Query umls_id2definition failed: C0750482, Status code: 404\n",
      "49 Slightly C0750482 Slightly (qualifier value) Qualitative Concept None None\n",
      "Query umls_id2semantic failed: unnormalizable, Status code: 404\n",
      "Query umls_id2definition failed: unnormalizable, Status code: 404\n",
      "50 air - filled unnormalizable unnormalizable None None None\n",
      "51 vague C0205408 Vague Qualitative Concept A term that refers to something not explicit or clear in meaning. NCI\n",
      "Query umls_id2semantic failed: unnormalizable, Status code: 404\n",
      "Query umls_id2definition failed: unnormalizable, Status code: 404\n",
      "52 mid - to - upper unnormalizable unnormalizable None None None\n",
      "Query umls_id2semantic failed: unnormalizable, Status code: 404\n",
      "Query umls_id2definition failed: unnormalizable, Status code: 404\n",
      "53 on the frontal view only unnormalizable unnormalizable None None None\n",
      "Query umls_id2semantic failed: unnormalizable, Status code: 404\n",
      "Query umls_id2definition failed: unnormalizable, Status code: 404\n",
      "54 more conspicuous compared with the prior exam unnormalizable unnormalizable None None None\n",
      "55 artifact C0085089 Morphologic artifact Human-caused Phenomenon or Process Cualquier resultado visible de un procedimiento que es causado por el propio procedimiento y no por la entidad que está siendo analizada. Ejemplos comunes incluyen las estructuras histológicas que aparecen durante el procesamiento de tejido, imágenes radiográficas de estructuras que no están naturalmente presentes en tejidos vivos, y productos de reacciones químicas que tienen lugar durante el análisis. MSHSPA\n",
      "56 Vague C0205408 Vague Qualitative Concept A term that refers to something not explicit or clear in meaning. NCI\n",
      "57 Port - A - Cath system C0226901 Implanted venous access device Body Part, Organ, or Organ Component The anteriorly located rigid section of the PALATE. MSH\n",
      "Query umls_id2semantic failed: unnormalizable, Status code: 404\n",
      "Query umls_id2definition failed: unnormalizable, Status code: 404\n",
      "58 durable unnormalizable unnormalizable None None None\n",
      "Query umls_id2definition failed: C0442801, Status code: 404\n",
      "59 exaggerating C0442801 Exaggerated Qualitative Concept None None\n",
      "60 access C0444454 Access Spatial Concept The right to obtain or make use of or take advantage of something (as services or membership); the right to enter. Also, an act or means of approaching. NCI\n",
      "Query umls_id2semantic failed: unnormalizable, Status code: 404\n",
      "Query umls_id2definition failed: unnormalizable, Status code: 404\n",
      "61 gaseous unnormalizable unnormalizable None None None\n",
      "Query umls_id2definition failed: C5441440, Status code: 404\n",
      "62 placements C5441440 Dressings and Other Placements Therapeutic or Preventive Procedure None None\n",
      "Query umls_id2semantic failed: unnormalizable, Status code: 404\n",
      "Query umls_id2definition failed: unnormalizable, Status code: 404\n",
      "63 off the field of view unnormalizable unnormalizable None None None\n",
      "64 Tip C3872494 Device tip (physical object) Manufactured Object The extreme end of something, especially something pointed. NCI\n",
      "Query umls_id2semantic failed: unnormalizable, Status code: 404\n",
      "Query umls_id2definition failed: unnormalizable, Status code: 404\n",
      "65 7 cm above unnormalizable unnormalizable None None None\n",
      "Query umls_id2semantic failed: unnormalizable, Status code: 404\n",
      "Query umls_id2definition failed: unnormalizable, Status code: 404\n",
      "66 Other lines unnormalizable unnormalizable None None None\n",
      "Query umls_id2semantic failed: unnormalizable, Status code: 404\n",
      "Query umls_id2definition failed: unnormalizable, Status code: 404\n",
      "67 carinal unnormalizable unnormalizable None None None\n",
      "Query umls_id2semantic failed: unnormalizable, Status code: 404\n",
      "Query umls_id2definition failed: unnormalizable, Status code: 404\n",
      "68 lordotic unnormalizable unnormalizable None None None\n",
      "Query umls_id2semantic failed: unnormalizable, Status code: 404\n",
      "Query umls_id2definition failed: unnormalizable, Status code: 404\n",
      "69 Significantly unnormalizable unnormalizable None None None\n",
      "70 acceleration C0000894 Acceleration Phenomenon or Process 1) Um aumento na taxa de velocidade. 2) Variação da velocidade em função do tempo. Utiliza-se na engenharia sísmica para definir o movimento vibratório do solo ou das estruturas; expressa-se em fração de gravidade (g) (Material II - IDNDR, 1992) MSHPOR\n",
      "71 concurrent C0205420 Concurrent Temporal Concept <p>A relationship in which the source act's effective time is the same as the target act's effective time.</p><i>UsageNote:</i>This code is reflexive. Therefore its inverse code is itself. HL7V3.0\n",
      "72 cancer C0006826 Malignant Neoplasms Neoplastic Process A tumor composed of atypical neoplastic, often pleomorphic cells that invade other tissues. Malignant neoplasms often metastasize to distant anatomic sites and may recur after excision. The most common malignant neoplasms are carcinomas (adenocarcinomas or squamous cell carcinomas), Hodgkin and non-Hodgkin lymphomas, leukemias, melanomas, and sarcomas. Check for \"https://www.cancer.gov/about-cancer/treatment/clinical-trials/intervention/C9305\" active clinical trials using this agent. (\"http://ncit.nci.nih.gov/ncitbrowser/ConceptReport.jsp?dictionary=NCI%20Thesaurus&code=C9305\" NCI Thesaurus) PDQ\n",
      "Query umls_id2semantic failed: unnormalizable, Status code: 404\n",
      "Query umls_id2definition failed: unnormalizable, Status code: 404\n",
      "73 areation unnormalizable unnormalizable None None None\n",
      "74 dissemination C0205221 Disseminated Spatial Concept To scatter widely; spread. NCI\n",
      "Query umls_id2semantic failed: unnormalizable, Status code: 404\n",
      "Query umls_id2definition failed: unnormalizable, Status code: 404\n",
      "75 cannot be evaluated unnormalizable unnormalizable None None None\n",
      "76 disseminated C0205221 Disseminated Spatial Concept To scatter widely; spread. NCI\n",
      "Query umls_id2semantic failed: unnormalizable, Status code: 404\n",
      "Query umls_id2definition failed: unnormalizable, Status code: 404\n",
      "77 similar to prior study unnormalizable unnormalizable None None None\n",
      "78 Nearly C3828842 Nearly Qualitative Concept Not quite or just short of. NCI\n",
      "79 complete C0205197 Complete Qualitative Concept To possess every necessary or normal part or component or step; having come or been brought to a conclusion. NCI\n",
      "Query umls_id2semantic failed: unnormalizable, Status code: 404\n",
      "Query umls_id2definition failed: unnormalizable, Status code: 404\n",
      "80 increasingly unnormalizable unnormalizable None None None\n",
      "81 Similar C2348205 Similarity Qualitative Concept The quality of being alike; having characteristics in common. NCI\n",
      "Query umls_id2semantic failed: unnormalizable, Status code: 404\n",
      "Query umls_id2definition failed: unnormalizable, Status code: 404\n",
      "82 Lordotic unnormalizable unnormalizable None None None\n",
      "Query umls_id2semantic failed: unnormalizable, Status code: 404\n",
      "Query umls_id2definition failed: unnormalizable, Status code: 404\n",
      "83 pseudoarticulation unnormalizable unnormalizable None None None\n",
      "84 Venous C0348013 Venous Spatial Concept Of, or pertaining to, or contained in, or performing the function of the veins. NCI\n",
      "85 Cervical C0205064 Cervical Spatial Concept Relating to a neck, or cervix, in any sense. NCI\n",
      "86 extremity C0015385 Limb structure Body Part, Organ, or Organ Component cardinal body part, each instance of which has as its constitutional part some appendicular skeleton. Examples: There are only four instances, right upper and lower limbs and left upper and lower limbs. FMA\n",
      "Query umls_id2semantic failed: unnormalizable, Status code: 404\n",
      "Query umls_id2definition failed: unnormalizable, Status code: 404\n",
      "87 Orphaned unnormalizable unnormalizable None None None\n",
      "88 atrial C0018792 Heart Atrium Body Part, Organ, or Organ Component The chambers of the heart, to which the BLOOD returns from the circulation. MSH\n",
      "89 irregular C0205271 Irregular Qualitative Concept Lacking perfect symmetry or evenness. NCI\n",
      "Query umls_id2semantic failed: unnormalizable, Status code: 404\n",
      "Query umls_id2definition failed: unnormalizable, Status code: 404\n",
      "90 hyperdense unnormalizable unnormalizable None None None\n",
      "91 breast C0006141 Breast Body Part, Organ, or Organ Component Region of pectoral part of chest, each instance of which is the modified, glandular structure on some anterior chest and which has as its parts some nipple, areola, breast proper. FMA\n",
      "92 One C0205447 One Quantitative Concept The smallest natural number and quantity it denotes: a single entity, unit, or object. NCI\n",
      "93 one C0205447 One Quantitative Concept The smallest natural number and quantity it denotes: a single entity, unit, or object. NCI\n",
      "94 detached C0687118 Detached Functional Concept Physically separated or not connected. NCI\n",
      "Results have been saved to '../resource/normalized_entities_gpt_103.csv'.\n"
     ]
    }
   ],
   "source": [
    "import pandas as pd\n",
    "import pprint\n",
    "import time\n",
    "import sys\n",
    "import os\n",
    "# Add the parent directory to the Python path\n",
    "parent_dir = os.path.abspath(os.path.join(os.getcwd(), '..'))\n",
    "sys.path.append(parent_dir)\n",
    "from utils.umls_api import nomralize_entity_with_umls\n",
    "from utils.umls_api import nomralize_entity_with_umls_and_gpt\n",
    "\n",
    "\n",
    "##################### Specify the file path #####################\n",
    "file_path = '../resource/entities_not_in_data2.csv'\n",
    "df = pd.DataFrame({'ui': [], 'semanticTypes': [], 'definition': []}, dtype=str)\n",
    "df = pd.read_csv(file_path)\n",
    "\n",
    "i = 0\n",
    "\n",
    "for index, row in df.iterrows():\n",
    "    # entity, ui, term, semanticTypes, definition, source = nomralize_entity_with_umls(row['name'])\n",
    "    entity, ui, term, semanticTypes, definition, source = nomralize_entity_with_umls_and_gpt(row['name'])\n",
    "\n",
    "    if ui != None:\n",
    "        df.at[index, 'ui'] = ui\n",
    "        df.at[index, 'term'] = term\n",
    "        df.at[index, 'semanticTypes'] = semanticTypes\n",
    "        df.at[index, 'definition'] = definition\n",
    "        df.at[index, 'source'] = source\n",
    "\n",
    "        i += 1\n",
    "        print(i, entity, ui, term, semanticTypes, definition, source)\n",
    "\n",
    "# Save the columns of result (name,ui,normalized_name,semanticTypes,definition) to a new csv file\n",
    "\n",
    "\n",
    "df[['name', 'ui', 'term', 'semanticTypes', 'definition']].to_csv(output_file_path, index=False)\n",
    "print(f\"Results have been saved to '{output_file_path}'.\")"
   ]
  },
  {
   "cell_type": "code",
   "execution_count": 5,
   "metadata": {},
   "outputs": [
    {
     "name": "stdout",
     "output_type": "stream",
     "text": [
      "Results have been saved to '../resource/normalized_entities_gpt_103.xlsx'.\n"
     ]
    }
   ],
   "source": [
    "output_file_path = '../resource/normalized_entities_gpt_103.csv'\n",
    "\n",
    "df = pd.read_csv(output_file_path)\n",
    "\n",
    "output_file_path = '../resource/normalized_entities_gpt_103.xlsx'\n",
    "df.to_excel(output_file_path, index=False)\n",
    "print(f\"Results have been saved to '{output_file_path}'.\")"
   ]
  },
  {
   "cell_type": "markdown",
   "metadata": {},
   "source": [
    "# OpenAI "
   ]
  },
  {
   "cell_type": "code",
   "execution_count": 1,
   "metadata": {},
   "outputs": [
    {
     "name": "stdout",
     "output_type": "stream",
     "text": [
      "[{'name': 'Distal (qualifier value)',\n",
      "  'rootSource': 'MTH',\n",
      "  'ui': 'C0205108',\n",
      "  'uri': 'https://uts-ws.nlm.nih.gov/rest/content/2024AA/CUI/C0205108'},\n",
      " {'name': 'Distal Resection Margin',\n",
      "  'rootSource': 'MTH',\n",
      "  'ui': 'C4522154',\n",
      "  'uri': 'https://uts-ws.nlm.nih.gov/rest/content/2024AA/CUI/C4522154'},\n",
      " {'name': 'Distal Muscular Dystrophies',\n",
      "  'rootSource': 'MTH',\n",
      "  'ui': 'C0751336',\n",
      "  'uri': 'https://uts-ws.nlm.nih.gov/rest/content/2024AA/CUI/C0751336'},\n",
      " {'name': 'Distal Renal Tubular Acidosis',\n",
      "  'rootSource': 'MTH',\n",
      "  'ui': 'C1704380',\n",
      "  'uri': 'https://uts-ws.nlm.nih.gov/rest/content/2024AA/CUI/C1704380'},\n",
      " {'name': 'Distal subtotal pancreatectomy',\n",
      "  'rootSource': 'SNOMEDCT_US',\n",
      "  'ui': 'C0176940',\n",
      "  'uri': 'https://uts-ws.nlm.nih.gov/rest/content/2024AA/CUI/C0176940'}]\n"
     ]
    }
   ],
   "source": [
    "# pprint(response['result']['results'])\n",
    "import openai\n",
    "import json\n",
    "\n",
    "import sys\n",
    "import os\n",
    "from pprint import pprint\n",
    "\n",
    "# Add the parent directory to the Python path\n",
    "parent_dir = os.path.abspath(os.path.join(os.getcwd(), '..'))\n",
    "sys.path.append(parent_dir)\n",
    "from utils.umls_api import use_umls_api_term\n",
    "\n",
    "\n",
    "entity = 'distal'\n",
    "response = use_umls_api_term(entity)\n",
    "\n",
    "\n",
    "result_list = response['result']['results'][:5]\n",
    "# response['result']['results'] first 5\n",
    "pprint(response['result']['results'][:5])\n"
   ]
  },
  {
   "cell_type": "code",
   "execution_count": 2,
   "metadata": {},
   "outputs": [
    {
     "name": "stdout",
     "output_type": "stream",
     "text": [
      "Normalization result: ('unnormalizable', 'unnormalizable')\n"
     ]
    }
   ],
   "source": [
    "import sys\n",
    "import os\n",
    "from pprint import pprint\n",
    "\n",
    "# Add the parent directory to the Python path\n",
    "parent_dir = os.path.abspath(os.path.join(os.getcwd(), '..'))\n",
    "sys.path.append(parent_dir)\n",
    "from utils.umls_api import use_umls_api_term\n",
    "\n",
    "\n",
    "entity = \"cardiomediastinal\"\n",
    "response = use_umls_api_term(entity)\n",
    "result_list = response['result']['results'][:5]\n",
    "model = \"gpt-4\"\n",
    "\n",
    "from utils.umls_api import normalize_entity\n",
    "result = normalize_entity(entity, result_list, model)\n",
    "print(f\"Normalization result: {result}\")\n"
   ]
  },
  {
   "cell_type": "markdown",
   "metadata": {},
   "source": [
    "# GPT normalization"
   ]
  },
  {
   "cell_type": "code",
   "execution_count": null,
   "metadata": {},
   "outputs": [
    {
     "name": "stdout",
     "output_type": "stream",
     "text": [
      "Total number of entities: 1250\n",
      "Number of items with normalization: null: 752\n",
      "Number of entities with normalization: null: 752\n"
     ]
    }
   ],
   "source": [
    "import json\n",
    "from pprint import pprint\n",
    "\n",
    "file_path = '../resource/all_unique_entities_normalized.json'\n",
    "\n",
    "# Read the JSON file\n",
    "with open(file_path, 'r', encoding='utf-8') as f:\n",
    "    all_entities = json.load(f)\n",
    "\n",
    "# Print total number of entities\n",
    "print(f\"Total number of entities: {len(all_entities)}\")\n",
    "\n",
    "\n",
    "# for i, (key, value) in enumerate(list(all_entities.items())[:2], 1):\n",
    "    # pprint({key: value}, width=100, indent=2)\n",
    "\n",
    "# Count the number of items with normalization: null\n",
    "count_null_normalization = sum(1 for data in all_entities.values() if data['normalization'] is None)\n",
    "print(f\"Number of items with normalization: null: {count_null_normalization}\")\n",
    "\n",
    "# get list of all entities with normalization: null\n",
    "entities_null_normalization = [entity for entity, data in all_entities.items() if data['normalization'] is None]\n",
    "# print len of entities_null_normalization\n",
    "print(f\"Number of entities with normalization: null: {len(entities_null_normalization)}\")"
   ]
  },
  {
   "cell_type": "code",
   "execution_count": null,
   "metadata": {},
   "outputs": [
    {
     "name": "stdout",
     "output_type": "stream",
     "text": [
      "cardiomediastinal\n",
      "Normalized entity: UI = unnormalizable, Name = unnormalizable\n",
      "silhouettes\n",
      "Normalized entity: UI = unnormalizable, Name = unnormalizable\n",
      "surfaces\n",
      "Normalized entity: UI = unnormalizable, Name = unnormalizable\n",
      "approximately a 4.6 cm\n",
      "Normalized entity: UI = unnormalizable, Name = unnormalizable\n",
      "carina\n",
      "Normalized entity: UI = unnormalizable, Name = unnormalizable\n",
      "distal\n",
      "Normalized entity: UI = unnormalizable, Name = unnormalizable\n",
      "advanced by at least 11 cm\n",
      "Normalized entity: UI = unnormalizable, Name = unnormalizable\n",
      "contours\n",
      "Normalized entity: UI = unnormalizable, Name = unnormalizable\n",
      "grossly\n",
      "Normalized entity: UI = unnormalizable, Name = unnormalizable\n",
      "unremarkable\n",
      "Normalized entity: UI = unnormalizable, Name = unnormalizable\n"
     ]
    }
   ],
   "source": [
    "model = \"chatgpt-4o-latest\"\n",
    "\n",
    "for entity in entities_null_normalization[:10]:\n",
    "    print(entity)\n",
    "    response = use_umls_api_term(entity)\n",
    "    result_list = response['result']['results'][:5]\n",
    "\n",
    "    ui, name = normalize_entity(entity, result_list, model)\n",
    "    print(f\"Normalized entity: UI = {ui}, Name = {name}\")\n"
   ]
  },
  {
   "cell_type": "markdown",
   "metadata": {},
   "source": [
    "# dev.json"
   ]
  },
  {
   "cell_type": "code",
   "execution_count": 13,
   "metadata": {},
   "outputs": [
    {
     "name": "stdout",
     "output_type": "stream",
     "text": [
      "Length of data: 1353\n",
      "Length of data2: 1250\n"
     ]
    }
   ],
   "source": [
    "import csv\n",
    "\n",
    "file_path = '../../resource/not_normalized.csv'\n",
    "# Read the data from the CSV file\n",
    "data = []\n",
    "with open(file_path, 'r', encoding='utf-8') as csvfile:\n",
    "    reader = csv.DictReader(csvfile)\n",
    "    for row in reader:\n",
    "        data.append(row)\n",
    "\n",
    "    \n",
    "# Print the length of the data\n",
    "print(f\"Length of data: {len(data)}\")\n",
    "\n",
    "file_path = '../resource/output.csv'\n",
    "# Read the data from the CSV file\n",
    "data2 = []\n",
    "with open(file_path, 'r', encoding='utf-8') as csvfile:\n",
    "    reader = csv.DictReader(csvfile)\n",
    "    for row in reader:\n",
    "        data2.append(row)\n",
    "\n",
    "print(f\"Length of data2: {len(data2)}\")"
   ]
  },
  {
   "cell_type": "code",
   "execution_count": 14,
   "metadata": {},
   "outputs": [
    {
     "name": "stdout",
     "output_type": "stream",
     "text": [
      "Number of entities not in data2: 103\n"
     ]
    }
   ],
   "source": [
    "# find entities that are shown in data not in data2\n",
    "entities_not_in_data2 = []\n",
    "for row in data:\n",
    "    if row['name'] not in [item['name'] for item in data2]:\n",
    "        entities_not_in_data2.append(row['name'])\n",
    "\n",
    "\n",
    "print(f\"Number of entities not in data2: {len(entities_not_in_data2)}\")"
   ]
  },
  {
   "cell_type": "code",
   "execution_count": 16,
   "metadata": {},
   "outputs": [
    {
     "name": "stdout",
     "output_type": "stream",
     "text": [
      "Entities not in data2 have been written to '../resource/entities_not_in_data2.csv'.\n"
     ]
    }
   ],
   "source": [
    "# write entities_not_in_data2 to a new csv file\n",
    "file_path = '../resource/entities_not_in_data2.csv'\n",
    "with open(file_path, 'w', encoding='utf-8', newline='') as csvfile:\n",
    "    writer = csv.writer(csvfile)\n",
    "    writer.writerow(['name', 'ui', 'normalized_name', 'semanticTypes', 'definition'])\n",
    "    for entity in entities_not_in_data2:\n",
    "        writer.writerow([entity, '', '', '', ''])\n",
    "\n",
    "print(f\"Entities not in data2 have been written to '{file_path}'.\")"
   ]
  }
 ],
 "metadata": {
  "kernelspec": {
   "display_name": "medkgc",
   "language": "python",
   "name": "medkgc"
  },
  "language_info": {
   "codemirror_mode": {
    "name": "ipython",
    "version": 3
   },
   "file_extension": ".py",
   "mimetype": "text/x-python",
   "name": "python",
   "nbconvert_exporter": "python",
   "pygments_lexer": "ipython3",
   "version": "3.10.14"
  }
 },
 "nbformat": 4,
 "nbformat_minor": 2
}
