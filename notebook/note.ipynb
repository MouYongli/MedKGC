{
 "cells": [
  {
   "cell_type": "markdown",
   "metadata": {},
   "source": [
    "# MIMIC\n",
    "/DATA1/llm-research/MIMIC-CXR   \n",
    "227,835 radiology studies"
   ]
  },
  {
   "cell_type": "markdown",
   "metadata": {},
   "source": [
    "# RadGraph\n",
    "/DATA1/llm-research/RadGraph/physionet.org/files/radgraph/1.0.0/\n",
    "\n",
    "train,json  \n",
    "425  \n",
    "{'MIMIC-CXR'}  \n",
    "not 500?\n",
    "\n",
    "test.json  \n",
    "100\n",
    "{'MIMIC-CXR', 'CheXpert'}\n",
    "\n",
    "Paper RadGraph\n",
    "> We release a development dataset, which contains board-certified radiologist annotations for 500 radiology reports from the MIMIC-CXR dataset (14,579 entities and 10,889 relations), and a test dataset, which contains two independent sets of board-certified radiologist annotations for 100 radiology reports split equally across the MIMIC-CXR and CheXpert datasets.\n",
    "\n"
   ]
  },
  {
   "cell_type": "code",
   "execution_count": 14,
   "metadata": {},
   "outputs": [
    {
     "name": "stdout",
     "output_type": "stream",
     "text": [
      "425\n",
      "{'text': 'FINAL REPORT PA AND LATERAL VIEWS OF THE CHEST REASON FOR EXAM : Abdominal pain . Cardiomediastinal contours are normal . The lungs are clear . There is no pneumothorax or pleural effusion . There are mild degenerative changes in the thoracic spine . IMPRESSION : No evidence of pneumonia .', 'entities': {'1': {'tokens': 'Cardiomediastinal', 'label': 'ANAT-DP', 'start_ix': 16, 'end_ix': 16, 'relations': []}, '2': {'tokens': 'contours', 'label': 'ANAT-DP', 'start_ix': 17, 'end_ix': 17, 'relations': [['modify', '1']]}, '3': {'tokens': 'normal', 'label': 'OBS-DP', 'start_ix': 19, 'end_ix': 19, 'relations': [['located_at', '1']]}, '4': {'tokens': 'lungs', 'label': 'ANAT-DP', 'start_ix': 22, 'end_ix': 22, 'relations': []}, '5': {'tokens': 'clear', 'label': 'OBS-DP', 'start_ix': 24, 'end_ix': 24, 'relations': [['located_at', '4']]}, '6': {'tokens': 'pneumothorax', 'label': 'OBS-DA', 'start_ix': 29, 'end_ix': 29, 'relations': []}, '7': {'tokens': 'pleural', 'label': 'ANAT-DP', 'start_ix': 31, 'end_ix': 31, 'relations': []}, '8': {'tokens': 'effusion', 'label': 'OBS-DA', 'start_ix': 32, 'end_ix': 32, 'relations': [['located_at', '7']]}, '9': {'tokens': 'mild', 'label': 'OBS-DP', 'start_ix': 36, 'end_ix': 36, 'relations': [['modify', '10']]}, '10': {'tokens': 'degenerative', 'label': 'OBS-DP', 'start_ix': 37, 'end_ix': 37, 'relations': [['located_at', '13']]}, '11': {'tokens': 'changes', 'label': 'OBS-DP', 'start_ix': 38, 'end_ix': 38, 'relations': [['modify', '10']]}, '12': {'tokens': 'thoracic', 'label': 'ANAT-DP', 'start_ix': 41, 'end_ix': 41, 'relations': []}, '13': {'tokens': 'spine', 'label': 'ANAT-DP', 'start_ix': 42, 'end_ix': 42, 'relations': []}, '14': {'tokens': 'pneumonia', 'label': 'OBS-DA', 'start_ix': 49, 'end_ix': 49, 'relations': []}}, 'data_source': 'MIMIC-CXR', 'data_split': 'train'}\n"
     ]
    }
   ],
   "source": [
    "import json\n",
    "import pprint\n",
    "\n",
    "# file_path = '/DATA1/llm-research/RadGraph/physionet.org/files/radgraph/1.0.0/test.json'\n",
    "file_path = '/DATA1/llm-research/RadGraph/physionet.org/files/radgraph/1.0.0/train.json'\n",
    "\n",
    "with open(file_path, 'r') as file:\n",
    "    data = json.load(file)\n",
    "\n",
    "# print length of the dictionary\n",
    "# print(len(data))\n",
    "\n",
    "# the last item in the dictionary\n",
    "print(data[list(data.keys())[-2]])\n",
    "# pprint.pprint(list(data.items())[-2])\n",
    "# \n",
    "\n",
    "# data.keys()\n",
    "# print all different 'data_source' in all data.values()\n",
    "# data_source = set()\n",
    "# for item in data.values():\n",
    "#     data_source.add(item['data_source'])\n",
    "# print(data_source)"
   ]
  },
  {
   "cell_type": "markdown",
   "metadata": {},
   "source": [
    "do ner and re task for text:\n",
    "'''\n",
    "FINAL REPORT PA AND LATERAL VIEWS OF THE CHEST REASON FOR EXAM : Abdominal pain . Cardiomediastinal contours are normal . The lungs are clear . There is no pneumothorax or pleural effusion . There are mild degenerative changes in the thoracic spine . IMPRESSION : No evidence of pneumonia .\n",
    "'''\n",
    "\n",
    "example:\n",
    "'''\n",
    "'{'text': 'FINAL REPORT INDICATION : ___ - year - old male with chest pain . COMPARISON : ___ . CHEST , AP UPRIGHT : The lungs are clear . Cardiomediastinal and hilar contours are normal . There are no pleural effusions or pneumothorax . IMPRESSION : No acute cardiopulmonary process .', 'entities': {'1': {'tokens': 'lungs', 'label': 'ANAT-DP', 'start_ix': 24, 'end_ix': 24, 'relations': []}, '2': {'tokens': 'clear', 'label': 'OBS-DP', 'start_ix': 26, 'end_ix': 26, 'relations': [['located_at', '1']]}, '3': {'tokens': 'Cardiomediastinal', 'label': 'ANAT-DP', 'start_ix': 28, 'end_ix': 28, 'relations': []}, '4': {'tokens': 'hilar', 'label': 'ANAT-DP', 'start_ix': 30, 'end_ix': 30, 'relations': []}, '5': {'tokens': 'contours', 'label': 'ANAT-DP', 'start_ix': 31, 'end_ix': 31, 'relations': [['modify', '3'], ['modify', '4']]}, '6': {'tokens': 'normal', 'label': 'OBS-DP', 'start_ix': 33, 'end_ix': 33, 'relations': [['located_at', '3'], ['located_at', '4']]}, '7': {'tokens': 'pleural', 'label': 'ANAT-DP', 'start_ix': 38, 'end_ix': 38, 'relations': []}, '8': {'tokens': 'effusions', 'label': 'OBS-DA', 'start_ix': 39, 'end_ix': 39, 'relations': [['located_at', '7']]}, '9': {'tokens': 'pneumothorax', 'label': 'OBS-DA', 'start_ix': 41, 'end_ix': 41, 'relations': []}, '10': {'tokens': 'acute', 'label': 'OBS-DA', 'start_ix': 46, 'end_ix': 46, 'relations': [['modify', '12']]}, '11': {'tokens': 'cardiopulmonary', 'label': 'ANAT-DP', 'start_ix': 47, 'end_ix': 47, 'relations': []}, '12': {'tokens': 'process', 'label': 'OBS-DA', 'start_ix': 48, 'end_ix': 48, 'relations': [['located_at', '11']]}}, 'data_source': 'MIMIC-CXR', 'data_split': 'train'}'\n",
    "'''"
   ]
  },
  {
   "cell_type": "code",
   "execution_count": 5,
   "metadata": {},
   "outputs": [
    {
     "data": {
      "text/plain": [
       "dict_keys(['text', 'entities', 'data_source', 'data_split'])"
      ]
     },
     "execution_count": 5,
     "metadata": {},
     "output_type": "execute_result"
    }
   ],
   "source": [
    "data['p18/p18004941/s58821758.txt'].keys()\n",
    "\n"
   ]
  },
  {
   "cell_type": "code",
   "execution_count": 9,
   "metadata": {},
   "outputs": [
    {
     "data": {
      "text/plain": [
       "'FINAL REPORT EXAMINATION : CHEST ( PORTABLE AP ) INDICATION : ___ year old woman with SAH / / Fever workup Fever workup IMPRESSION : Compared to chest radiographs ___ . Patient has been extubated . Lungs are clear . Normal cardiomediastinal and hilar silhouettes and pleural surfaces .'"
      ]
     },
     "execution_count": 9,
     "metadata": {},
     "output_type": "execute_result"
    }
   ],
   "source": [
    "data['p18/p18004941/s58821758.txt']['text']"
   ]
  },
  {
   "cell_type": "code",
   "execution_count": 10,
   "metadata": {},
   "outputs": [
    {
     "data": {
      "text/plain": [
       "{'1': {'tokens': 'Lungs',\n",
       "  'label': 'ANAT-DP',\n",
       "  'start_ix': 36,\n",
       "  'end_ix': 36,\n",
       "  'relations': []},\n",
       " '2': {'tokens': 'clear',\n",
       "  'label': 'OBS-DP',\n",
       "  'start_ix': 38,\n",
       "  'end_ix': 38,\n",
       "  'relations': [['located_at', '1']]},\n",
       " '3': {'tokens': 'Normal',\n",
       "  'label': 'OBS-DP',\n",
       "  'start_ix': 40,\n",
       "  'end_ix': 40,\n",
       "  'relations': [['located_at', '4'],\n",
       "   ['located_at', '5'],\n",
       "   ['located_at', '7']]},\n",
       " '4': {'tokens': 'cardiomediastinal',\n",
       "  'label': 'ANAT-DP',\n",
       "  'start_ix': 41,\n",
       "  'end_ix': 41,\n",
       "  'relations': []},\n",
       " '5': {'tokens': 'hilar',\n",
       "  'label': 'ANAT-DP',\n",
       "  'start_ix': 43,\n",
       "  'end_ix': 43,\n",
       "  'relations': []},\n",
       " '6': {'tokens': 'silhouettes',\n",
       "  'label': 'ANAT-DP',\n",
       "  'start_ix': 44,\n",
       "  'end_ix': 44,\n",
       "  'relations': [['modify', '4'], ['modify', '5']]},\n",
       " '7': {'tokens': 'pleural',\n",
       "  'label': 'ANAT-DP',\n",
       "  'start_ix': 46,\n",
       "  'end_ix': 46,\n",
       "  'relations': []},\n",
       " '8': {'tokens': 'surfaces',\n",
       "  'label': 'ANAT-DP',\n",
       "  'start_ix': 47,\n",
       "  'end_ix': 47,\n",
       "  'relations': [['modify', '7']]}}"
      ]
     },
     "execution_count": 10,
     "metadata": {},
     "output_type": "execute_result"
    }
   ],
   "source": [
    "data['p18/p18004941/s58821758.txt']['entities']"
   ]
  },
  {
   "cell_type": "code",
   "execution_count": 12,
   "metadata": {},
   "outputs": [
    {
     "data": {
      "text/plain": [
       "'MIMIC-CXR'"
      ]
     },
     "execution_count": 12,
     "metadata": {},
     "output_type": "execute_result"
    }
   ],
   "source": [
    "data['p18/p18004941/s58821758.txt']['data_source']"
   ]
  },
  {
   "cell_type": "code",
   "execution_count": 13,
   "metadata": {},
   "outputs": [
    {
     "data": {
      "text/plain": [
       "'train'"
      ]
     },
     "execution_count": 13,
     "metadata": {},
     "output_type": "execute_result"
    }
   ],
   "source": [
    "data['p18/p18004941/s58821758.txt']['data_split']"
   ]
  },
  {
   "cell_type": "code",
   "execution_count": 19,
   "metadata": {},
   "outputs": [
    {
     "data": {
      "text/plain": [
       "{'tokens': 'Lungs',\n",
       " 'label': 'ANAT-DP',\n",
       " 'start_ix': 36,\n",
       " 'end_ix': 36,\n",
       " 'relations': []}"
      ]
     },
     "execution_count": 19,
     "metadata": {},
     "output_type": "execute_result"
    }
   ],
   "source": [
    "data['p18/p18004941/s58821758.txt']['entities']['1']"
   ]
  },
  {
   "cell_type": "markdown",
   "metadata": {},
   "source": [
    "# Preprocess data"
   ]
  },
  {
   "cell_type": "code",
   "execution_count": null,
   "metadata": {},
   "outputs": [],
   "source": []
  },
  {
   "cell_type": "markdown",
   "metadata": {},
   "source": [
    "# AllenNLP"
   ]
  },
  {
   "cell_type": "code",
   "execution_count": 2,
   "metadata": {},
   "outputs": [
    {
     "name": "stdout",
     "output_type": "stream",
     "text": [
      "Words: ['Barack', 'Obama', 'was', 'born', 'in', 'Hawaii', '.']\n",
      "Tags: ['B-PER', 'L-PER', 'O', 'O', 'O', 'U-LOC', 'O']\n"
     ]
    }
   ],
   "source": [
    "from allennlp.predictors.predictor import Predictor\n",
    "import allennlp_models.tagging\n",
    "\n",
    "# 加载预训练的NER模型\n",
    "predictor = Predictor.from_path(\"https://storage.googleapis.com/allennlp-public-models/ner-model-2020.02.10.tar.gz\")\n",
    "\n",
    "# 输入句子\n",
    "sentence = \"Barack Obama was born in Hawaii.\"\n",
    "\n",
    "# 进行预测\n",
    "prediction = predictor.predict(sentence)\n",
    "\n",
    "# 输出结果\n",
    "print(\"Words:\", prediction[\"words\"])\n",
    "print(\"Tags:\", prediction[\"tags\"])\n"
   ]
  },
  {
   "cell_type": "code",
   "execution_count": null,
   "metadata": {},
   "outputs": [],
   "source": []
  }
 ],
 "metadata": {
  "kernelspec": {
   "display_name": "bern2",
   "language": "python",
   "name": "python3"
  },
  "language_info": {
   "codemirror_mode": {
    "name": "ipython",
    "version": 3
   },
   "file_extension": ".py",
   "mimetype": "text/x-python",
   "name": "python",
   "nbconvert_exporter": "python",
   "pygments_lexer": "ipython3",
   "version": "3.10.14"
  }
 },
 "nbformat": 4,
 "nbformat_minor": 2
}
