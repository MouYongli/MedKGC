{
 "cells": [
  {
   "cell_type": "markdown",
   "metadata": {},
   "source": [
    "# openai"
   ]
  },
  {
   "cell_type": "code",
   "execution_count": 7,
   "metadata": {},
   "outputs": [],
   "source": [
    "import os\n",
    "from openai import OpenAI\n",
    "\n",
    "\n",
    "client = OpenAI(\n",
    "    api_key=OPENAI_API_KEY\n",
    ")"
   ]
  },
  {
   "cell_type": "code",
   "execution_count": 8,
   "metadata": {},
   "outputs": [],
   "source": [
    "\n",
    "def get_embedding(text, model=\"text-embedding-ada-002\"):\n",
    "   return client.embeddings.create(input=[text], model=model).data[0].embedding"
   ]
  },
  {
   "cell_type": "code",
   "execution_count": 14,
   "metadata": {},
   "outputs": [
    {
     "name": "stdout",
     "output_type": "stream",
     "text": [
      "Similarity between Pneumothorax and Pneumothorax is An accumulation of air or gas in the PLEURAL CAVITY, which may occur spontaneously or as a result of trauma or a pathological process. The gas may also be introduced deliberately during PNEUMOTHORAX, ARTIFICIAL. (MSH) is 0.9123316407203674\n",
      "Similarity between Pneumothorax and Lungs is Either of the pair of organs occupying the cavity of the thorax that effect the aeration of the blood. (MSH) is 0.835702657699585\n",
      "Similarity between Pneumothorax and Pleural is Of or pertaining to the pleura. (NCI) is 0.8355947136878967\n",
      "Similarity between Pneumothorax and Thyroidectomy is Surgical removal of the thyroid gland. is 0.7639389634132385\n"
     ]
    }
   ],
   "source": [
    "item1 = \"Pneumothorax is An accumulation of air or gas in the PLEURAL CAVITY, which may occur spontaneously or as a result of trauma or a pathological process. The gas may also be introduced deliberately during PNEUMOTHORAX, ARTIFICIAL. (MSH)\"\n",
    "item2 = \"Lungs is Either of the pair of organs occupying the cavity of the thorax that effect the aeration of the blood. (MSH)\"\n",
    "item3 = \"Pleural is Of or pertaining to the pleura. (NCI)\"\n",
    "item4 = \"Thyroidectomy is Surgical removal of the thyroid gland.\" \n",
    "items = [item1, item2, item3, item4]\n",
    "mention = 'Pneumothorax'\n",
    "\n",
    "\n",
    "item_embeddings = [get_embedding(item) for item in items]\n",
    "\n",
    "mention = 'Pneumothorax'\n",
    "mention_embedding = get_embedding(mention)\n",
    "\n",
    "import torch\n",
    "\n",
    "item_embeddings = torch.tensor(item_embeddings)\n",
    "mention_embedding = torch.tensor(mention_embedding)\n",
    "\n",
    "import torch.nn.functional as F\n",
    "\n",
    "for i, item in enumerate(items):\n",
    "    similarity = F.cosine_similarity(mention_embedding.unsqueeze(0), item_embeddings[i].unsqueeze(0))\n",
    "    print(f\"Similarity between {mention} and {item} is {similarity.item()}\")"
   ]
  },
  {
   "cell_type": "markdown",
   "metadata": {},
   "source": [
    "# Llama 3"
   ]
  },
  {
   "cell_type": "code",
   "execution_count": null,
   "metadata": {},
   "outputs": [],
   "source": []
  },
  {
   "cell_type": "markdown",
   "metadata": {},
   "source": [
    "# BERT"
   ]
  },
  {
   "cell_type": "code",
   "execution_count": 16,
   "metadata": {},
   "outputs": [
    {
     "name": "stderr",
     "output_type": "stream",
     "text": [
      "Some weights of the model checkpoint at bert-base-uncased were not used when initializing BertModel: ['cls.predictions.transform.LayerNorm.bias', 'cls.seq_relationship.weight', 'cls.predictions.decoder.weight', 'cls.predictions.bias', 'cls.predictions.transform.dense.weight', 'cls.predictions.transform.dense.bias', 'cls.seq_relationship.bias', 'cls.predictions.transform.LayerNorm.weight']\n",
      "- This IS expected if you are initializing BertModel from the checkpoint of a model trained on another task or with another architecture (e.g. initializing a BertForSequenceClassification model from a BertForPreTraining model).\n",
      "- This IS NOT expected if you are initializing BertModel from the checkpoint of a model that you expect to be exactly identical (initializing a BertForSequenceClassification model from a BertForSequenceClassification model).\n"
     ]
    },
    {
     "name": "stdout",
     "output_type": "stream",
     "text": [
      "Similarity between 'Pneumothorax' and 'Pneumothorax is An accumulation of air or gas in the PLEURAL CAVITY, which may occur spontaneously or as a result of trauma or a pathological process. The gas may also be introduced deliberately during PNEUMOTHORAX, ARTIFICIAL. (MSH)' is 0.5690178275108337\n",
      "Similarity between 'Pneumothorax' and 'Lungs is Either of the pair of organs occupying the cavity of the thorax that effect the aeration of the blood. (MSH)' is 0.9573487043380737\n",
      "Similarity between 'Pneumothorax' and 'Pleural is Of or pertaining to the pleura. (NCI)' is 0.988681972026825\n",
      "Similarity between 'Pneumothorax' and 'Thyroidectomy is Surgical removal of the thyroid gland.' is 0.9960650205612183\n"
     ]
    }
   ],
   "source": [
    "import torch\n",
    "from transformers import BertTokenizer, BertModel\n",
    "from scipy.spatial.distance import cosine\n",
    "\n",
    "# Load the pre-trained BERT model and tokenizer\n",
    "model_name = 'bert-base-uncased'\n",
    "tokenizer = BertTokenizer.from_pretrained(model_name)\n",
    "model = BertModel.from_pretrained(model_name)\n",
    "\n",
    "# Define the mention and items\n",
    "mention = 'Pneumothorax'\n",
    "items = ['Pneumothorax is An accumulation of air or gas in the PLEURAL CAVITY, which may occur spontaneously or as a result of trauma or a pathological process. The gas may also be introduced deliberately during PNEUMOTHORAX, ARTIFICIAL. (MSH)',\n",
    "         'Lungs is Either of the pair of organs occupying the cavity of the thorax that effect the aeration of the blood. (MSH)',\n",
    "         'Pleural is Of or pertaining to the pleura. (NCI)',\n",
    "         'Thyroidectomy is Surgical removal of the thyroid gland.']\n",
    "\n",
    "# Tokenize the mention and items\n",
    "mention_tokens = tokenizer.tokenize(mention)\n",
    "item_tokens = [tokenizer.tokenize(item) for item in items]\n",
    "\n",
    "# Convert tokens to input IDs\n",
    "mention_input_ids = tokenizer.convert_tokens_to_ids(mention_tokens)\n",
    "item_input_ids = [tokenizer.convert_tokens_to_ids(tokens) for tokens in item_tokens]\n",
    "\n",
    "# Pad input IDs to the same length\n",
    "max_length = max(len(mention_input_ids), max(len(ids) for ids in item_input_ids))\n",
    "mention_input_ids = mention_input_ids + [0] * (max_length - len(mention_input_ids))\n",
    "item_input_ids = [ids + [0] * (max_length - len(ids)) for ids in item_input_ids]\n",
    "\n",
    "# Convert input IDs to tensors\n",
    "mention_input_ids = torch.tensor([mention_input_ids])\n",
    "item_input_ids = torch.tensor(item_input_ids)\n",
    "\n",
    "# Generate BERT embeddings\n",
    "with torch.no_grad():\n",
    "    mention_embeddings = model.embeddings.word_embeddings(mention_input_ids)\n",
    "    item_embeddings = model.embeddings.word_embeddings(item_input_ids)\n",
    "\n",
    "# Average the embeddings\n",
    "mention_embedding = mention_embeddings.mean(dim=1)\n",
    "item_embeddings = item_embeddings.mean(dim=1)\n",
    "\n",
    "# Calculate cosine similarity\n",
    "similarities = [1 - cosine(mention_embedding.squeeze().numpy(), item_embedding.squeeze().numpy()) for item_embedding in item_embeddings]\n",
    "\n",
    "# Print the similarities\n",
    "for i, item in enumerate(items):\n",
    "    print(f\"Similarity between '{mention}' and '{item}' is {similarities[i]}\")"
   ]
  },
  {
   "cell_type": "code",
   "execution_count": null,
   "metadata": {},
   "outputs": [],
   "source": [
    "text = 'Lungs are clear . Normal cardiomediastinal and hilar silhouettes and pleural surfaces'\n",
    "\n"
   ]
  }
 ],
 "metadata": {
  "kernelspec": {
   "display_name": "medkgc",
   "language": "python",
   "name": "python3"
  },
  "language_info": {
   "codemirror_mode": {
    "name": "ipython",
    "version": 3
   },
   "file_extension": ".py",
   "mimetype": "text/x-python",
   "name": "python",
   "nbconvert_exporter": "python",
   "pygments_lexer": "ipython3",
   "version": "3.10.14"
  }
 },
 "nbformat": 4,
 "nbformat_minor": 2
}
