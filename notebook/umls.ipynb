{
 "cells": [
  {
   "cell_type": "code",
   "execution_count": 10,
   "metadata": {},
   "outputs": [
    {
     "name": "stdout",
     "output_type": "stream",
     "text": [
      "['2024AA/META/MRCONSO.RRF']\n"
     ]
    }
   ],
   "source": [
    "import zipfile\n",
    "from umls_downloader import download_umls\n",
    "\n",
    "path = download_umls(version=\"2024AA\", api_key=\"751b12fd-192a-4a6d-985d-9b094c99d3c8\")\n",
    "\n",
    "#  umls-2024AA-mrconso.zip\n",
    "\n",
    "# 解压并读取文件\n",
    "with zipfile.ZipFile(path) as zip_file:\n",
    "    # with zip_file.open(\"2024AA/META/MRCONSO.RRF\", mode=\"r\") as file:\n",
    "    #     for line in file:\n",
    "    #         print(line.decode('utf-8'))\n",
    "    # print(zip_file.namelist())"
   ]
  },
  {
   "cell_type": "code",
   "execution_count": 8,
   "metadata": {},
   "outputs": [
    {
     "name": "stdout",
     "output_type": "stream",
     "text": [
      "文件 /home/hbchen/.data/bio/umls/2024AA/umls-2024AA-mrconso.zip 已被删除\n"
     ]
    }
   ],
   "source": [
    "import os\n",
    "from umls_downloader import download_umls\n",
    "\n",
    "# 下载文件\n",
    "path = download_umls(version=\"2024AA\", api_key=\"751b12fd-192a-4a6d-985d-9b094c99d3c8\")\n",
    "\n",
    "# 使用文件...\n",
    "\n",
    "# 删除文件\n",
    "if os.path.exists(path):\n",
    "    os.remove(path)\n",
    "    print(f\"文件 {path} 已被删除\")\n",
    "else:\n",
    "    print(f\"文件 {path} 不存在\")"
   ]
  }
 ],
 "metadata": {
  "kernelspec": {
   "display_name": "medkgc",
   "language": "python",
   "name": "python3"
  },
  "language_info": {
   "codemirror_mode": {
    "name": "ipython",
    "version": 3
   },
   "file_extension": ".py",
   "mimetype": "text/x-python",
   "name": "python",
   "nbconvert_exporter": "python",
   "pygments_lexer": "ipython3",
   "version": "3.10.14"
  }
 },
 "nbformat": 4,
 "nbformat_minor": 2
}
